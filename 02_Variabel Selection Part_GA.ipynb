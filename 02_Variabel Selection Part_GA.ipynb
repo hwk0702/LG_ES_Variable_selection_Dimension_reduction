{
 "cells": [
  {
   "cell_type": "markdown",
   "metadata": {},
   "source": [
    "# [ LG에너지 솔루션 DX Expert 양성과정 ] 변수선택 및 차원 축소"
   ]
  },
  {
   "cell_type": "markdown",
   "metadata": {},
   "source": [
    "## 유전 알고리즘"
   ]
  },
  {
   "cell_type": "markdown",
   "metadata": {},
   "source": [
    "### 강의 복습\n",
    "강의자료 : 변수선택 및 차원 축소, 02 유전 알고리즘\n",
    "- 유전 알고리즘 : 우수한 유전자(문제의 해Solution)는 생식을 통해 다음 세대에서도 잘 발현될 수 있도록 권장\n",
    "- 유전 알고리즘의 세 가지 핵심 단계\n",
    "    - 선택Selection: 현재 가능 해집합에서 우수한 해들을 선택하여 다음 세대를 생성하기 위한 부모 세대로 지정\n",
    "    - 교배Crossover: 선택된 부모 세대들의 유전자를 교환하여 새로운 세대를 생성\n",
    "    - 돌연변이Mutation: 낮은 확률로 변이를 발생시켜 Local Optimum에서 탈출할 수 있는 기회 제공"
   ]
  },
  {
   "cell_type": "markdown",
   "metadata": {},
   "source": [
    "<img src=\"./image/Genetic_Algorithms02.png\" width=\"500\">\n",
    "<img src=\"./image/Genetic_Algorithms01.png\" width=\"500\">"
   ]
  },
  {
   "cell_type": "markdown",
   "metadata": {
    "ExecuteTime": {
     "end_time": "2023-06-05T06:15:07.060069Z",
     "start_time": "2023-06-05T06:15:07.050229Z"
    }
   },
   "source": [
    "### 실습 요약\n",
    "1. 본 실습에서는 유전 알고리즘을 통해 변수를 선택하여 차원 축소를 진행합니다.\n",
    "2. 분류 과업을 위해 선형 회귀 모델과 로직스틱 모델을 통해 유전 알고리즘 방법의 성능을 확인합니다."
   ]
  },
  {
   "cell_type": "markdown",
   "metadata": {},
   "source": [
    "---"
   ]
  },
  {
   "cell_type": "markdown",
   "metadata": {},
   "source": [
    "### SETP 1. 데이터 준비하기\n",
    "- Malware를 분류하는 것을 목적으로 하는 데이터 셋\n",
    "- 총 68개의 독립 변수를 통해 종속 변수(Not Malware=0, Malware=1)를 예측해야 함"
   ]
  },
  {
   "cell_type": "code",
   "execution_count": 1,
   "metadata": {
    "ExecuteTime": {
     "end_time": "2023-06-28T17:19:18.029438Z",
     "start_time": "2023-06-28T17:19:15.770690Z"
    }
   },
   "outputs": [
    {
     "name": "stdout",
     "output_type": "stream",
     "text": [
      "Cloning into 'LG_ES_Variable_selection_Dimension_reduction'...\n",
      "remote: Enumerating objects: 25, done.\u001b[K\n",
      "remote: Counting objects: 100% (25/25), done.\u001b[K\n",
      "remote: Compressing objects: 100% (20/20), done.\u001b[K\n",
      "remote: Total 25 (delta 5), reused 21 (delta 5), pack-reused 0\u001b[K\n",
      "Unpacking objects: 100% (25/25), done.\n",
      "/tf/dsba/external_lecture/LG_ES_Variable_selection_Dimension_reduction/LG_ES_Variable_selection_Dimension_reduction\n"
     ]
    }
   ],
   "source": [
    "# github에서 데이터 불러오기\n",
    "!git clone https://github.com/hwk0702/LG_ES_Variable_selection_Dimension_reduction.git\n",
    "%cd LG_ES_Variable_selection_Dimension_reduction"
   ]
  },
  {
   "cell_type": "code",
   "execution_count": 2,
   "metadata": {
    "ExecuteTime": {
     "end_time": "2023-06-28T17:19:18.607946Z",
     "start_time": "2023-06-28T17:19:18.031749Z"
    }
   },
   "outputs": [],
   "source": [
    "import numpy as np\n",
    "import pandas as pd\n",
    "data = pd.read_csv('./data/Malwares Classification.csv')"
   ]
  },
  {
   "cell_type": "code",
   "execution_count": 3,
   "metadata": {
    "ExecuteTime": {
     "end_time": "2023-06-28T17:19:18.680547Z",
     "start_time": "2023-06-28T17:19:18.624019Z"
    }
   },
   "outputs": [
    {
     "data": {
      "text/html": [
       "<div>\n",
       "<style scoped>\n",
       "    .dataframe tbody tr th:only-of-type {\n",
       "        vertical-align: middle;\n",
       "    }\n",
       "\n",
       "    .dataframe tbody tr th {\n",
       "        vertical-align: top;\n",
       "    }\n",
       "\n",
       "    .dataframe thead th {\n",
       "        text-align: right;\n",
       "    }\n",
       "</style>\n",
       "<table border=\"1\" class=\"dataframe\">\n",
       "  <thead>\n",
       "    <tr style=\"text-align: right;\">\n",
       "      <th></th>\n",
       "      <th>e_cblp</th>\n",
       "      <th>e_cp</th>\n",
       "      <th>e_cparhdr</th>\n",
       "      <th>e_maxalloc</th>\n",
       "      <th>e_sp</th>\n",
       "      <th>e_lfanew</th>\n",
       "      <th>NumberOfSections</th>\n",
       "      <th>CreationYear</th>\n",
       "      <th>FH_char0</th>\n",
       "      <th>FH_char1</th>\n",
       "      <th>...</th>\n",
       "      <th>LoaderFlags</th>\n",
       "      <th>sus_sections</th>\n",
       "      <th>non_sus_sections</th>\n",
       "      <th>packer</th>\n",
       "      <th>E_text</th>\n",
       "      <th>E_data</th>\n",
       "      <th>filesize</th>\n",
       "      <th>E_file</th>\n",
       "      <th>fileinfo</th>\n",
       "      <th>class</th>\n",
       "    </tr>\n",
       "  </thead>\n",
       "  <tbody>\n",
       "    <tr>\n",
       "      <th>0</th>\n",
       "      <td>144.0</td>\n",
       "      <td>3.0</td>\n",
       "      <td>4.0</td>\n",
       "      <td>65535.0</td>\n",
       "      <td>184.0</td>\n",
       "      <td>256.0</td>\n",
       "      <td>4.0</td>\n",
       "      <td>1.0</td>\n",
       "      <td>0.0</td>\n",
       "      <td>1.0</td>\n",
       "      <td>...</td>\n",
       "      <td>1.0</td>\n",
       "      <td>1.0</td>\n",
       "      <td>3.0</td>\n",
       "      <td>0.0</td>\n",
       "      <td>6.603616</td>\n",
       "      <td>5.443362</td>\n",
       "      <td>1181520.0</td>\n",
       "      <td>6.627552</td>\n",
       "      <td>1.0</td>\n",
       "      <td>0.0</td>\n",
       "    </tr>\n",
       "    <tr>\n",
       "      <th>1</th>\n",
       "      <td>144.0</td>\n",
       "      <td>3.0</td>\n",
       "      <td>4.0</td>\n",
       "      <td>65535.0</td>\n",
       "      <td>184.0</td>\n",
       "      <td>184.0</td>\n",
       "      <td>4.0</td>\n",
       "      <td>1.0</td>\n",
       "      <td>0.0</td>\n",
       "      <td>1.0</td>\n",
       "      <td>...</td>\n",
       "      <td>1.0</td>\n",
       "      <td>1.0</td>\n",
       "      <td>3.0</td>\n",
       "      <td>0.0</td>\n",
       "      <td>5.205926</td>\n",
       "      <td>2.123522</td>\n",
       "      <td>7680.0</td>\n",
       "      <td>5.318221</td>\n",
       "      <td>0.0</td>\n",
       "      <td>0.0</td>\n",
       "    </tr>\n",
       "    <tr>\n",
       "      <th>2</th>\n",
       "      <td>144.0</td>\n",
       "      <td>3.0</td>\n",
       "      <td>4.0</td>\n",
       "      <td>65535.0</td>\n",
       "      <td>184.0</td>\n",
       "      <td>272.0</td>\n",
       "      <td>5.0</td>\n",
       "      <td>1.0</td>\n",
       "      <td>0.0</td>\n",
       "      <td>1.0</td>\n",
       "      <td>...</td>\n",
       "      <td>1.0</td>\n",
       "      <td>1.0</td>\n",
       "      <td>4.0</td>\n",
       "      <td>0.0</td>\n",
       "      <td>6.238000</td>\n",
       "      <td>3.380859</td>\n",
       "      <td>57872.0</td>\n",
       "      <td>6.507758</td>\n",
       "      <td>1.0</td>\n",
       "      <td>0.0</td>\n",
       "    </tr>\n",
       "    <tr>\n",
       "      <th>3</th>\n",
       "      <td>144.0</td>\n",
       "      <td>3.0</td>\n",
       "      <td>4.0</td>\n",
       "      <td>65535.0</td>\n",
       "      <td>184.0</td>\n",
       "      <td>184.0</td>\n",
       "      <td>1.0</td>\n",
       "      <td>1.0</td>\n",
       "      <td>0.0</td>\n",
       "      <td>1.0</td>\n",
       "      <td>...</td>\n",
       "      <td>1.0</td>\n",
       "      <td>0.0</td>\n",
       "      <td>1.0</td>\n",
       "      <td>0.0</td>\n",
       "      <td>0.000000</td>\n",
       "      <td>0.000000</td>\n",
       "      <td>95616.0</td>\n",
       "      <td>4.575092</td>\n",
       "      <td>1.0</td>\n",
       "      <td>0.0</td>\n",
       "    </tr>\n",
       "    <tr>\n",
       "      <th>4</th>\n",
       "      <td>144.0</td>\n",
       "      <td>3.0</td>\n",
       "      <td>4.0</td>\n",
       "      <td>65535.0</td>\n",
       "      <td>184.0</td>\n",
       "      <td>224.0</td>\n",
       "      <td>5.0</td>\n",
       "      <td>1.0</td>\n",
       "      <td>0.0</td>\n",
       "      <td>1.0</td>\n",
       "      <td>...</td>\n",
       "      <td>1.0</td>\n",
       "      <td>1.0</td>\n",
       "      <td>4.0</td>\n",
       "      <td>0.0</td>\n",
       "      <td>6.355626</td>\n",
       "      <td>0.702621</td>\n",
       "      <td>48128.0</td>\n",
       "      <td>5.545531</td>\n",
       "      <td>1.0</td>\n",
       "      <td>0.0</td>\n",
       "    </tr>\n",
       "  </tbody>\n",
       "</table>\n",
       "<p>5 rows × 69 columns</p>\n",
       "</div>"
      ],
      "text/plain": [
       "   e_cblp  e_cp  e_cparhdr  e_maxalloc   e_sp  e_lfanew  NumberOfSections  \\\n",
       "0   144.0   3.0        4.0     65535.0  184.0     256.0               4.0   \n",
       "1   144.0   3.0        4.0     65535.0  184.0     184.0               4.0   \n",
       "2   144.0   3.0        4.0     65535.0  184.0     272.0               5.0   \n",
       "3   144.0   3.0        4.0     65535.0  184.0     184.0               1.0   \n",
       "4   144.0   3.0        4.0     65535.0  184.0     224.0               5.0   \n",
       "\n",
       "   CreationYear  FH_char0  FH_char1  ...  LoaderFlags  sus_sections  \\\n",
       "0           1.0       0.0       1.0  ...          1.0           1.0   \n",
       "1           1.0       0.0       1.0  ...          1.0           1.0   \n",
       "2           1.0       0.0       1.0  ...          1.0           1.0   \n",
       "3           1.0       0.0       1.0  ...          1.0           0.0   \n",
       "4           1.0       0.0       1.0  ...          1.0           1.0   \n",
       "\n",
       "   non_sus_sections  packer    E_text    E_data   filesize    E_file  \\\n",
       "0               3.0     0.0  6.603616  5.443362  1181520.0  6.627552   \n",
       "1               3.0     0.0  5.205926  2.123522     7680.0  5.318221   \n",
       "2               4.0     0.0  6.238000  3.380859    57872.0  6.507758   \n",
       "3               1.0     0.0  0.000000  0.000000    95616.0  4.575092   \n",
       "4               4.0     0.0  6.355626  0.702621    48128.0  5.545531   \n",
       "\n",
       "   fileinfo  class  \n",
       "0       1.0    0.0  \n",
       "1       0.0    0.0  \n",
       "2       1.0    0.0  \n",
       "3       1.0    0.0  \n",
       "4       1.0    0.0  \n",
       "\n",
       "[5 rows x 69 columns]"
      ]
     },
     "execution_count": 3,
     "metadata": {},
     "output_type": "execute_result"
    }
   ],
   "source": [
    "data.head()"
   ]
  },
  {
   "cell_type": "code",
   "execution_count": 4,
   "metadata": {
    "ExecuteTime": {
     "end_time": "2023-06-28T17:19:18.729719Z",
     "start_time": "2023-06-28T17:19:18.688096Z"
    }
   },
   "outputs": [
    {
     "name": "stdout",
     "output_type": "stream",
     "text": [
      "Index(['e_cblp', 'e_cp', 'e_cparhdr', 'e_maxalloc', 'e_sp', 'e_lfanew',\n",
      "       'NumberOfSections', 'CreationYear', 'FH_char0', 'FH_char1', 'FH_char2',\n",
      "       'FH_char3', 'FH_char4', 'FH_char5', 'FH_char6', 'FH_char7', 'FH_char8',\n",
      "       'FH_char9', 'FH_char10', 'FH_char11', 'FH_char12', 'FH_char13',\n",
      "       'FH_char14', 'MajorLinkerVersion', 'MinorLinkerVersion', 'SizeOfCode',\n",
      "       'SizeOfInitializedData', 'SizeOfUninitializedData',\n",
      "       'AddressOfEntryPoint', 'BaseOfCode', 'BaseOfData', 'ImageBase',\n",
      "       'SectionAlignment', 'FileAlignment', 'MajorOperatingSystemVersion',\n",
      "       'MinorOperatingSystemVersion', 'MajorImageVersion', 'MinorImageVersion',\n",
      "       'MajorSubsystemVersion', 'MinorSubsystemVersion', 'SizeOfImage',\n",
      "       'SizeOfHeaders', 'CheckSum', 'Subsystem', 'OH_DLLchar0', 'OH_DLLchar1',\n",
      "       'OH_DLLchar2', 'OH_DLLchar3', 'OH_DLLchar4', 'OH_DLLchar5',\n",
      "       'OH_DLLchar6', 'OH_DLLchar7', 'OH_DLLchar8', 'OH_DLLchar9',\n",
      "       'OH_DLLchar10', 'SizeOfStackReserve', 'SizeOfStackCommit',\n",
      "       'SizeOfHeapReserve', 'SizeOfHeapCommit', 'LoaderFlags', 'sus_sections',\n",
      "       'non_sus_sections', 'packer', 'E_text', 'E_data', 'filesize', 'E_file',\n",
      "       'fileinfo', 'class'],\n",
      "      dtype='object')\n"
     ]
    }
   ],
   "source": [
    "print(data.columns)"
   ]
  },
  {
   "cell_type": "code",
   "execution_count": 5,
   "metadata": {
    "ExecuteTime": {
     "end_time": "2023-06-28T17:19:18.814178Z",
     "start_time": "2023-06-28T17:19:18.731906Z"
    }
   },
   "outputs": [],
   "source": [
    "# Label 분리 및 불필요한 변수 제거\n",
    "data = data.dropna(axis=0)\n",
    "labels = data.loc[:,'class']\n",
    "X_data = data.drop('class',axis=1)"
   ]
  },
  {
   "cell_type": "markdown",
   "metadata": {},
   "source": [
    "### STEP 2. 데이터 전처리\n",
    "- 무작위 추출 방식을 활용하여 전체 데이터 셋을 Train, Validation, Test로 구분함"
   ]
  },
  {
   "cell_type": "code",
   "execution_count": 6,
   "metadata": {
    "ExecuteTime": {
     "end_time": "2023-06-28T17:19:19.779725Z",
     "start_time": "2023-06-28T17:19:18.820309Z"
    }
   },
   "outputs": [],
   "source": [
    "from sklearn.model_selection import train_test_split"
   ]
  },
  {
   "cell_type": "code",
   "execution_count": 7,
   "metadata": {
    "ExecuteTime": {
     "end_time": "2023-06-28T17:19:19.795586Z",
     "start_time": "2023-06-28T17:19:19.782286Z"
    }
   },
   "outputs": [],
   "source": [
    "X_train, X_test, y_train, y_test = train_test_split(X_data, labels, test_size=0.2, random_state=42)\n",
    "X_val, X_test, y_val, y_test = train_test_split(X_test, y_test, test_size=0.5, random_state=42)"
   ]
  },
  {
   "cell_type": "code",
   "execution_count": 8,
   "metadata": {
    "ExecuteTime": {
     "end_time": "2023-06-28T17:19:19.924297Z",
     "start_time": "2023-06-28T17:19:19.799387Z"
    }
   },
   "outputs": [],
   "source": [
    "from sklearn.preprocessing import StandardScaler\n",
    "# train 데이터를 기반으로 train/test 데이터에 대하여 standard scaling 적용 (평균 0, 분산 1) \n",
    "scaler = StandardScaler()\n",
    "scaler = scaler.fit(X_train)"
   ]
  },
  {
   "cell_type": "code",
   "execution_count": 9,
   "metadata": {
    "ExecuteTime": {
     "end_time": "2023-06-28T17:19:20.015949Z",
     "start_time": "2023-06-28T17:19:19.930803Z"
    }
   },
   "outputs": [],
   "source": [
    "X_train = pd.DataFrame(scaler.transform(X_train),columns=X_train.columns,index=X_train.index)\n",
    "X_val   = pd.DataFrame(scaler.transform(X_val),columns=X_val.columns,index=X_val.index)\n",
    "X_test  = pd.DataFrame(scaler.transform(X_test),columns=X_test.columns,index=X_test.index)"
   ]
  },
  {
   "cell_type": "markdown",
   "metadata": {},
   "source": [
    "### STEP 3. 단순 모델 학습 및 평가\n",
    "- 변수 선택법을 적용하지 않았을 때, 선형 회귀 모델과 로지스틱 회귀 모델을 학습하고 그 성능을 평가함"
   ]
  },
  {
   "cell_type": "code",
   "execution_count": 10,
   "metadata": {
    "ExecuteTime": {
     "end_time": "2023-06-28T17:19:20.117815Z",
     "start_time": "2023-06-28T17:19:20.026818Z"
    }
   },
   "outputs": [],
   "source": [
    "from sklearn.linear_model import LinearRegression, LogisticRegression"
   ]
  },
  {
   "cell_type": "code",
   "execution_count": 11,
   "metadata": {
    "ExecuteTime": {
     "end_time": "2023-06-28T17:19:20.671769Z",
     "start_time": "2023-06-28T17:19:20.123570Z"
    },
    "scrolled": true
   },
   "outputs": [
    {
     "data": {
      "text/plain": [
       "LogisticRegression()"
      ]
     },
     "execution_count": 11,
     "metadata": {},
     "output_type": "execute_result"
    }
   ],
   "source": [
    "# 선형 회귀 학습\n",
    "line_fitter = LinearRegression()\n",
    "line_fitter.fit(X_train, y_train)\n",
    "# 로지스틱 회귀 학습\n",
    "logistic_fitter = LogisticRegression(solver=\"lbfgs\")\n",
    "logistic_fitter.fit(X_train, y_train)"
   ]
  },
  {
   "cell_type": "code",
   "execution_count": 12,
   "metadata": {
    "ExecuteTime": {
     "end_time": "2023-06-28T17:19:20.689453Z",
     "start_time": "2023-06-28T17:19:20.676213Z"
    }
   },
   "outputs": [],
   "source": [
    "#Accuracy 측정\n",
    "def Acc(pred,label,pri=True):\n",
    "    if pri:\n",
    "        print(\"Accuracy:\",np.round(np.sum(pred==label)/len(label)*100,1),\"%\")\n",
    "    return np.sum(pred==label)/len(label)"
   ]
  },
  {
   "cell_type": "code",
   "execution_count": 13,
   "metadata": {
    "ExecuteTime": {
     "end_time": "2023-06-28T17:19:20.846346Z",
     "start_time": "2023-06-28T17:19:20.694018Z"
    }
   },
   "outputs": [],
   "source": [
    "#선형 회귀 모델 예측 결과\n",
    "line_pred_test = line_fitter.predict(X_test)\n",
    "#로지스틱 회귀 모델 예측 결과\n",
    "logistic_pred_test = logistic_fitter.predict(X_test)"
   ]
  },
  {
   "cell_type": "code",
   "execution_count": 14,
   "metadata": {
    "ExecuteTime": {
     "end_time": "2023-06-28T17:19:20.894439Z",
     "start_time": "2023-06-28T17:19:20.853330Z"
    },
    "scrolled": false
   },
   "outputs": [
    {
     "name": "stdout",
     "output_type": "stream",
     "text": [
      "선형 회귀 모델\n",
      "Accuracy: 92.5 %\n",
      "로지스틱 회귀 모델\n",
      "Accuracy: 95.2 %\n"
     ]
    }
   ],
   "source": [
    "#선형 회귀 성능 평가\n",
    "print(\"선형 회귀 모델\")\n",
    "linear_all = Acc(line_pred_test>0.5,y_test)\n",
    "print(\"로지스틱 회귀 모델\")\n",
    "logistic_all = Acc(logistic_pred_test,y_test)"
   ]
  },
  {
   "cell_type": "markdown",
   "metadata": {},
   "source": [
    "### STEP 4. 변수 선택법: 유전 알고리즘\n",
    "- 메타 휴리스틱 방법론이 유전 알고리즘을 응요한 변수 선택 기법\n",
    "- 전진 선택법, 후진 소거법 그리고 단계적 선택법과 비교해 효율적으로 더 많은 범위의 조합을 탐색할 수 있는 알고리즘\n",
    "- 총 6단계로 구성됨\n",
    "    - Step 1:염색체 초기화\n",
    "    - Step 2:각 염색체 선택 변수별 모델학습\n",
    "    - Step 3:각 염색체 적합도 평가\n",
    "    - Step 4:우수 염색체 선택\n",
    "    - Step 5:다음 세대 염색체 생성\n",
    "    - Step 6:Stopping Criteria 만족: 최종 변수 집합(=염색체) 선택, Stopping Criteria 불만족: Step 2부터 다시 진행"
   ]
  },
  {
   "cell_type": "markdown",
   "metadata": {},
   "source": [
    "#### STEP 4.1. 염색체 초기화\n",
    "- 염색체는 세대(Population)를 구성하는 기본 단위\n",
    "- 변수 선택법에서 염색체는 독립변수의 개수만큼의 유전자를 가지며 유전자의 값(0 or 1)에 따라 변수 조합이 표현됨\n",
    "    - m번째 유전자의 값=0 -> m번 변수를 사용하지 않음\n",
    "    - m번째 유전자의 값=1 -> m번 변수를 사용함\n",
    "- GA를 시작하기 위해서는 한 세대를 구성하는 염색체의 개수를 설정한 후, 각 염색체들을 random하게 초기화 해주어야 함"
   ]
  },
  {
   "cell_type": "markdown",
   "metadata": {},
   "source": [
    "<img src=\"./image/Genetic_Algorithms03.png\" width=\"800\">"
   ]
  },
  {
   "cell_type": "code",
   "execution_count": 15,
   "metadata": {
    "ExecuteTime": {
     "end_time": "2023-06-28T17:19:20.951923Z",
     "start_time": "2023-06-28T17:19:20.902328Z"
    }
   },
   "outputs": [],
   "source": [
    "import random"
   ]
  },
  {
   "cell_type": "code",
   "execution_count": 16,
   "metadata": {
    "ExecuteTime": {
     "end_time": "2023-06-28T17:19:21.069504Z",
     "start_time": "2023-06-28T17:19:20.954006Z"
    }
   },
   "outputs": [],
   "source": [
    "def GA (model, X_train, y_train, X_val, y_val, iteration=50, population=100):\n",
    "      \n",
    "    for i in range(iteration):\n",
    "        ###첫 세대 구성\n",
    "        if i==0:\n",
    "            var = np.array(range(len(X_train.columns)))\n",
    "            var_length = len(var)\n",
    "            one  = np.ones((population,round(var_length/2)))\n",
    "            zero = np.zeros((population,var_length-round(var_length/2)))\n",
    "            old_population = []\n",
    "            temp = np.hstack([one,zero])\n",
    "            temp = temp[0]\n",
    "            for ind in range(population):\n",
    "                temp2 = temp.copy()\n",
    "                random.shuffle(temp2)\n",
    "                old_population.append(temp2)\n",
    "            \n",
    "            print(old_population[0])\n",
    "            print(var[old_population[0]==1.0])"
   ]
  },
  {
   "cell_type": "code",
   "execution_count": 17,
   "metadata": {
    "ExecuteTime": {
     "end_time": "2023-06-28T17:19:21.144222Z",
     "start_time": "2023-06-28T17:19:21.071509Z"
    }
   },
   "outputs": [],
   "source": [
    "def GA (model, X_train, y_train, X_val, y_val, iteration=50, population=100):\n",
    "      \n",
    "    for i in range(iteration):\n",
    "        ###첫 세대 구성\n",
    "        if i==0:\n",
    "            var = np.array(range(len(X_train.columns)))\n",
    "            var_length = len(var)\n",
    "            one  = np.ones((1,round(var_length/2))).flatten()\n",
    "            zero = np.zeros((1,round(var_length/2))).flatten()\n",
    "            old_population = []\n",
    "            temp = np.hstack([one,zero])\n",
    "            for ind in range(population):\n",
    "                temp2 = temp.copy()\n",
    "                random.shuffle(temp2)\n",
    "                old_population.append(temp2)\n",
    "            \n",
    "            print(old_population[0])\n",
    "            print(var[old_population[0]==1.0])"
   ]
  },
  {
   "cell_type": "code",
   "execution_count": 18,
   "metadata": {
    "ExecuteTime": {
     "end_time": "2023-06-28T17:19:21.267390Z",
     "start_time": "2023-06-28T17:19:21.151334Z"
    }
   },
   "outputs": [
    {
     "name": "stdout",
     "output_type": "stream",
     "text": [
      "[1. 0. 1. 0. 0. 1. 0. 1. 0. 0. 1. 1. 1. 0. 1. 0. 0. 0. 0. 0. 1. 0. 1. 1.\n",
      " 1. 1. 1. 1. 1. 1. 1. 0. 1. 1. 0. 1. 1. 0. 0. 1. 0. 0. 1. 0. 1. 1. 1. 0.\n",
      " 0. 0. 1. 0. 1. 1. 0. 0. 1. 0. 1. 0. 0. 1. 1. 0. 0. 0. 0. 0.]\n",
      "[ 0  2  5  7 10 11 12 14 20 22 23 24 25 26 27 28 29 30 32 33 35 36 39 42\n",
      " 44 45 46 50 52 53 56 58 61 62]\n"
     ]
    }
   ],
   "source": [
    "GA(LinearRegression(), X_train,y_train,X_val,y_val,iteration=50,population=100)"
   ]
  },
  {
   "cell_type": "markdown",
   "metadata": {},
   "source": [
    "#### STEP 4.2~3. 각 염색체 선택 변수별 모델 학습 및 평가\n",
    "- 각 염색체가 표현하는 변수 조합을 통해 모델을 학습함\n",
    "- 적합도 함수를 활용하여 각 모델을 평가함"
   ]
  },
  {
   "cell_type": "code",
   "execution_count": 19,
   "metadata": {
    "ExecuteTime": {
     "end_time": "2023-06-28T17:19:21.370163Z",
     "start_time": "2023-06-28T17:19:21.276440Z"
    }
   },
   "outputs": [],
   "source": [
    "def GA (model, X_train,y_train,X_val,y_val, iteration=50, population=100):\n",
    "      \n",
    "    for i in range(iteration):\n",
    "        ###첫 세대 구성\n",
    "        if i==0:\n",
    "            var = np.array(range(len(X_train.columns)))\n",
    "            var_length = len(var)\n",
    "            one  = np.ones((1,round(var_length/2))).flatten()\n",
    "            zero = np.zeros((1,round(var_length/2))).flatten()\n",
    "            old_population = []\n",
    "            temp = np.hstack([one,zero])\n",
    "            for ind in range(population):\n",
    "                temp2 = temp.copy()\n",
    "                random.shuffle(temp2)\n",
    "                old_population.append(temp2)\n",
    "        ###염색체별 모델 구성 및 평가\n",
    "        score_candidate = []\n",
    "        for ind in range(population):\n",
    "            \n",
    "            temp=old_population[ind]\n",
    "            temp_var=var[temp==1]\n",
    "            Temp_X_train = X_train.iloc[:,temp_var]\n",
    "            Temp_X_val   = X_val.iloc[:,temp_var]\n",
    "            model.fit(Temp_X_train,y_train)\n",
    "            prediction = model.predict(Temp_X_val)\n",
    "            score = Acc(prediction>0.5,y_val,pri=False)\n",
    "            score_candidate.append((score,list(temp)))\n",
    "            \n",
    "        score_candidate.sort()\n",
    "        print(score_candidate[:2])  "
   ]
  },
  {
   "cell_type": "code",
   "execution_count": 20,
   "metadata": {
    "ExecuteTime": {
     "end_time": "2023-06-28T17:19:21.809465Z",
     "start_time": "2023-06-28T17:19:21.376399Z"
    }
   },
   "outputs": [
    {
     "name": "stdout",
     "output_type": "stream",
     "text": [
      "[(0.746641074856046, [0.0, 1.0, 1.0, 0.0, 1.0, 1.0, 0.0, 1.0, 1.0, 1.0, 0.0, 0.0, 1.0, 0.0, 0.0, 1.0, 0.0, 1.0, 0.0, 1.0, 0.0, 1.0, 1.0, 1.0, 1.0, 1.0, 0.0, 1.0, 0.0, 0.0, 0.0, 0.0, 1.0, 0.0, 0.0, 0.0, 0.0, 1.0, 1.0, 0.0, 1.0, 1.0, 0.0, 0.0, 0.0, 0.0, 0.0, 1.0, 1.0, 1.0, 0.0, 1.0, 1.0, 1.0, 1.0, 1.0, 1.0, 1.0, 0.0, 0.0, 0.0, 1.0, 0.0, 1.0, 0.0, 0.0, 0.0, 0.0]), (0.8253358925143954, [0.0, 0.0, 1.0, 1.0, 0.0, 0.0, 0.0, 0.0, 0.0, 1.0, 1.0, 1.0, 1.0, 1.0, 1.0, 0.0, 1.0, 1.0, 0.0, 1.0, 0.0, 0.0, 0.0, 1.0, 1.0, 1.0, 0.0, 1.0, 1.0, 1.0, 0.0, 0.0, 0.0, 1.0, 1.0, 0.0, 1.0, 0.0, 0.0, 1.0, 0.0, 1.0, 1.0, 0.0, 0.0, 0.0, 0.0, 0.0, 1.0, 1.0, 1.0, 0.0, 0.0, 1.0, 0.0, 0.0, 0.0, 1.0, 1.0, 1.0, 0.0, 1.0, 0.0, 0.0, 1.0, 1.0, 0.0, 1.0])]\n"
     ]
    }
   ],
   "source": [
    "GA(LinearRegression(), X_train,y_train,X_val,y_val,iteration=1,population=10)"
   ]
  },
  {
   "cell_type": "markdown",
   "metadata": {},
   "source": [
    "#### STEP 4.4~5. 우수 염색체 선택 및 다음 세대 염색체 생성\n",
    "- 다음 세대의 염색체를 생성할 우수 염색체를 선택함\n",
    "    - Deterministic Method: 적합도 함수 값을 기준으로 상위의 염색체들을 선별함\n",
    "    - probabilistic method: 적합도 함수 값을 기준으로 확률적으로 염색체들을 선별함\n",
    "- Crossover와 Mutation 과정을 통해 우수 염색체로부터 다음 세대의 염색체를 생성함\n",
    "- Crossover \n",
    "    - 두 개의 부모 염색체의 유전자를 조합하여 두 개의 자식 염색체를 생성하는 과정\n",
    "    - 염색체 배열의 특정 지점을 기준으로(=crossover point) 각각의 부모 염색체 간 서로의 유전자 교환이 확률적으로 발생하도록 함\n",
    "    - 이 때, 교환 확률은 일반적으로 50%로 설정함\n",
    "- Mutation\n",
    "    - Crossover를 진행한 후에 각 염색체의 유전자 단위에서 확률적으로 유전자 값이 0->1 혹은 1->0으로 변경됨\n",
    "    - 이 때, 확률을 너무 높게 설정하면 부모 염색체로부터 형질을 물려받는 의미가 없어지므로 보편적으로 1%의 확률로 설정함"
   ]
  },
  {
   "cell_type": "code",
   "execution_count": 21,
   "metadata": {
    "ExecuteTime": {
     "end_time": "2023-06-28T17:19:21.837447Z",
     "start_time": "2023-06-28T17:19:21.820163Z"
    }
   },
   "outputs": [],
   "source": [
    "def cro_mut(mother, father,crossover, mutation,length):\n",
    "      \n",
    "    index=[0]\n",
    "    index=index+random.sample(range(1,length),crossover)\n",
    "    index=index+[length]\n",
    "    child1=mother.copy()\n",
    "    child2=father.copy()\n",
    "    for i in range(crossover+1):\n",
    "        if random.sample(range(2),1)[0]:\n",
    "            index2=index[i]\n",
    "            index3=index[i+1]\n",
    "            child1[index2:index3]=father[index2:index3]\n",
    "            child2[index2:index3]=mother[index2:index3]\n",
    "    for i in range(length):\n",
    "        temp=random.sample(range(mutation),1)[0]\n",
    "        if temp==0:\n",
    "            if child1[i]==0:\n",
    "                child1[i]=1\n",
    "            else:\n",
    "                child1[i]=0\n",
    "    for i in range(length):\n",
    "        temp=random.sample(range(mutation),1)[0]\n",
    "        if temp==0:\n",
    "            if child2[i]==0:\n",
    "                child2[i]=1\n",
    "            else:\n",
    "                child2[i]=0\n",
    "          \n",
    "    return [np.array(child1),np.array(child2)]"
   ]
  },
  {
   "cell_type": "code",
   "execution_count": 22,
   "metadata": {
    "ExecuteTime": {
     "end_time": "2023-06-28T17:19:21.920957Z",
     "start_time": "2023-06-28T17:19:21.846265Z"
    }
   },
   "outputs": [],
   "source": [
    "def GA (model, \n",
    "        X_train, \n",
    "        y_train, \n",
    "        X_val, \n",
    "        y_val, \n",
    "        iteration=50, \n",
    "        population=100, \n",
    "        select_ratio=0.5, \n",
    "        select_type= 'Deterministic', \n",
    "        crossover=1, \n",
    "        mutation=100):\n",
    "      \n",
    "    for i in range(iteration):\n",
    "        ###첫 세대 구성\n",
    "        if i==0:\n",
    "            var = np.array(range(len(X_train.columns)))\n",
    "            var_length = len(var)\n",
    "            one  = np.ones((population,round(var_length/2)))\n",
    "            zero = np.zeros((population,var_length-round(var_length/2)))\n",
    "            old_population = []\n",
    "            temp = np.hstack([one,zero])\n",
    "            temp = temp[0]\n",
    "            for ind in range(population):\n",
    "                temp2 = temp.copy()\n",
    "                random.shuffle(temp2)\n",
    "                old_population.append(temp2)\n",
    "        ###염색체별 모델 구성 및 평가\n",
    "        score_candidate = []\n",
    "        for ind in range(population):\n",
    "            temp=old_population[ind]\n",
    "            temp_var=var[temp==1]\n",
    "            Temp_X_train = X_train.iloc[:,temp_var]\n",
    "            Temp_X_val   = X_val.iloc[:,temp_var]\n",
    "            model.fit(Temp_X_train,y_train)\n",
    "            prediction = model.predict(Temp_X_val)\n",
    "            score = Acc(prediction>0.5,y_val,pri=False)\n",
    "            score_candidate.append((score,list(temp)))\n",
    "            \n",
    "        score_candidate.sort()\n",
    "        \n",
    "        next_population=[]\n",
    "        ###best 염색체 2개 보존\n",
    "        next_population.append(np.array(score_candidate[-1][1]))\n",
    "        next_population.append(np.array(score_candidate[-2][1]))\n",
    "      \n",
    "        ###Deterministic approch\n",
    "        if select_type == 'Deterministic':\n",
    "            parent_set = score_candidate[round((1-select_ratio)*population):]\n",
    "        ###Probabilistic approch\n",
    "        else: \n",
    "            scores = [i[0] for i in score_candidate]\n",
    "            select_index = np.random.choice(len(score_candidate), \n",
    "                                            round(select_ratio*population), \n",
    "                                            p=scores/np.sum(scores), \n",
    "                                            replace=False)\n",
    "            parent_set = [score_candidate[i] for i in select_index]\n",
    "      \n",
    "        ###다음 세대 구성\n",
    "        while len(next_population)<population:\n",
    "            m=random.randrange(0,len(parent_set))\n",
    "            f=random.randrange(0,len(parent_set))\n",
    "            mother=parent_set[m][1]\n",
    "            father=parent_set[f][1]\n",
    "            next_population=next_population+cro_mut(mother,father,crossover,mutation,var_length)\n",
    "            \n",
    "        old_population = next_population\n",
    "        print(old_population[:2])\n",
    "        print(len(old_population))"
   ]
  },
  {
   "cell_type": "code",
   "execution_count": 23,
   "metadata": {
    "ExecuteTime": {
     "end_time": "2023-06-28T17:19:22.981482Z",
     "start_time": "2023-06-28T17:19:21.935409Z"
    },
    "scrolled": true
   },
   "outputs": [
    {
     "name": "stdout",
     "output_type": "stream",
     "text": [
      "[array([0., 0., 1., 0., 1., 1., 0., 0., 0., 1., 0., 1., 0., 0., 1., 1., 1.,\n",
      "       1., 0., 0., 1., 0., 0., 0., 1., 0., 0., 1., 1., 1., 0., 0., 1., 1.,\n",
      "       1., 0., 1., 0., 0., 1., 1., 0., 0., 1., 1., 1., 1., 1., 1., 0., 1.,\n",
      "       0., 0., 0., 0., 1., 1., 0., 0., 0., 0., 1., 0., 0., 1., 1., 1., 1.]), array([1., 0., 0., 1., 0., 1., 0., 0., 0., 1., 1., 1., 1., 1., 0., 0., 0.,\n",
      "       1., 0., 0., 1., 1., 1., 0., 0., 1., 1., 0., 0., 0., 1., 0., 1., 0.,\n",
      "       0., 1., 1., 0., 0., 0., 1., 0., 0., 0., 1., 1., 1., 1., 1., 1., 0.,\n",
      "       0., 0., 0., 0., 1., 1., 1., 1., 0., 1., 1., 0., 1., 0., 0., 1., 1.])]\n",
      "10\n",
      "[array([1., 0., 0., 0., 1., 1., 1., 0., 1., 0., 0., 1., 0., 1., 1., 0., 0.,\n",
      "       1., 1., 1., 1., 0., 1., 1., 1., 1., 1., 0., 1., 1., 1., 0., 1., 1.,\n",
      "       0., 0., 1., 0., 0., 1., 1., 0., 0., 1., 1., 1., 1., 1., 1., 0., 1.,\n",
      "       0., 0., 0., 0., 1., 1., 0., 0., 0., 0., 1., 0., 0., 1., 1., 1., 1.]), array([0., 0., 1., 0., 1., 1., 0., 0., 0., 1., 0., 1., 0., 0., 1., 1., 1.,\n",
      "       1., 0., 0., 1., 0., 0., 0., 1., 0., 0., 1., 1., 1., 0., 0., 1., 1.,\n",
      "       1., 0., 1., 0., 0., 1., 1., 0., 0., 1., 1., 1., 1., 1., 1., 0., 1.,\n",
      "       0., 0., 0., 0., 1., 1., 0., 0., 0., 0., 1., 0., 0., 1., 1., 1., 1.])]\n",
      "10\n"
     ]
    }
   ],
   "source": [
    "GA(LinearRegression(), \n",
    "   X_train, \n",
    "   y_train, \n",
    "   X_val, \n",
    "   y_val,\n",
    "   iteration=2, \n",
    "   population=10, \n",
    "   select_ratio=0.5,\n",
    "   select_type= 'Deterministic',\n",
    "   crossover=1, \n",
    "   mutation=100)"
   ]
  },
  {
   "cell_type": "code",
   "execution_count": 24,
   "metadata": {
    "ExecuteTime": {
     "end_time": "2023-06-28T17:19:24.025612Z",
     "start_time": "2023-06-28T17:19:22.986365Z"
    },
    "scrolled": true
   },
   "outputs": [
    {
     "name": "stdout",
     "output_type": "stream",
     "text": [
      "[array([0., 1., 1., 0., 1., 1., 0., 0., 0., 0., 0., 1., 0., 1., 1., 1., 1.,\n",
      "       1., 0., 1., 1., 1., 0., 0., 0., 1., 1., 1., 0., 0., 1., 1., 0., 0.,\n",
      "       1., 0., 1., 0., 0., 1., 1., 1., 1., 1., 0., 0., 0., 0., 1., 1., 0.,\n",
      "       0., 0., 0., 1., 0., 1., 0., 1., 1., 0., 1., 0., 1., 0., 1., 0., 0.]), array([0., 1., 0., 0., 1., 0., 0., 0., 0., 1., 0., 0., 0., 1., 0., 0., 0.,\n",
      "       0., 1., 1., 1., 1., 1., 1., 1., 0., 0., 1., 1., 1., 0., 1., 0., 0.,\n",
      "       1., 0., 1., 1., 1., 1., 1., 0., 1., 0., 0., 0., 0., 0., 1., 1., 0.,\n",
      "       1., 1., 0., 0., 1., 1., 0., 0., 1., 1., 1., 1., 0., 0., 1., 0., 1.])]\n",
      "10\n",
      "[array([1., 0., 1., 1., 0., 1., 1., 0., 0., 0., 0., 1., 0., 1., 1., 1., 1.,\n",
      "       1., 0., 0., 1., 1., 0., 1., 1., 1., 0., 1., 1., 1., 0., 1., 0., 0.,\n",
      "       1., 0., 1., 1., 1., 1., 1., 0., 1., 0., 0., 0., 0., 0., 1., 1., 0.,\n",
      "       1., 1., 0., 0., 1., 1., 0., 0., 1., 1., 1., 1., 0., 0., 1., 0., 1.]), array([0., 1., 1., 0., 1., 1., 0., 0., 0., 0., 0., 1., 0., 1., 1., 1., 1.,\n",
      "       1., 0., 1., 1., 1., 0., 0., 0., 1., 1., 1., 0., 0., 1., 1., 0., 0.,\n",
      "       1., 0., 1., 0., 0., 1., 1., 1., 1., 1., 0., 0., 0., 0., 1., 1., 0.,\n",
      "       0., 0., 0., 1., 0., 1., 0., 1., 1., 0., 1., 0., 1., 0., 1., 0., 0.])]\n",
      "10\n"
     ]
    }
   ],
   "source": [
    "GA(LinearRegression(), \n",
    "   X_train, \n",
    "   y_train, \n",
    "   X_val, \n",
    "   y_val,\n",
    "   iteration=2, \n",
    "   population=10, \n",
    "   select_ratio=0.5,\n",
    "   select_type= 'Probabilistic',\n",
    "   crossover=1, \n",
    "   mutation=100)"
   ]
  },
  {
   "cell_type": "markdown",
   "metadata": {},
   "source": [
    "#### STEP 4.6. Stopping Criteria 만족시 GA 종료\n",
    "- Stopping Criteria를 만족할 경우 반복을 종료하고, 베스트 변수 조합을 선정함\n",
    "    - Iterarion: 특정 반복 횟수 이상이되면 반복 종료\n",
    "    - Performance: 적합도 함수 값이 기준 값 이상을 만족하면 반복 종료"
   ]
  },
  {
   "cell_type": "code",
   "execution_count": 25,
   "metadata": {
    "ExecuteTime": {
     "end_time": "2023-06-28T17:19:24.111107Z",
     "start_time": "2023-06-28T17:19:24.028383Z"
    }
   },
   "outputs": [],
   "source": [
    "def GA (model, \n",
    "        X_train, \n",
    "        y_train, \n",
    "        X_val, \n",
    "        y_val, \n",
    "        iteration=50,\n",
    "        stop=10,\n",
    "        population=100, \n",
    "        select_ratio=0.5, \n",
    "        select_type= 'Deterministic', \n",
    "        crossover=1, \n",
    "        mutation=100):\n",
    "    \n",
    "    best_score = 0.0\n",
    "    stop_count = 0\n",
    "    for i in range(iteration):\n",
    "        ###첫 세대 구성\n",
    "        if i==0:\n",
    "            var = np.array(range(len(X_train.columns)))\n",
    "            var_length = len(var)\n",
    "            one  = np.ones((population,round(var_length/2)))\n",
    "            zero = np.zeros((population,var_length-round(var_length/2)))\n",
    "            old_population = []\n",
    "            temp = np.hstack([one,zero])\n",
    "            temp = temp[0]\n",
    "            for ind in range(population):\n",
    "                temp2 = temp.copy()\n",
    "                random.shuffle(temp2)\n",
    "                old_population.append(temp2)\n",
    "        ###염색체별 모델 구성 및 평가\n",
    "        score_candidate = []\n",
    "        for ind in range(population):\n",
    "            temp=old_population[ind]\n",
    "            temp_var=var[temp==1]\n",
    "            Temp_X_train = X_train.iloc[:,temp_var]\n",
    "            Temp_X_val   = X_val.iloc[:,temp_var]\n",
    "            model.fit(Temp_X_train,y_train)\n",
    "            prediction = model.predict(Temp_X_val)\n",
    "            score = Acc(prediction>0.5,y_val,pri=False)\n",
    "            score_candidate.append((score,list(temp)))\n",
    "            \n",
    "        score_candidate.sort()\n",
    "        print(i,\"th Best Score:\",score_candidate[-1][0])\n",
    "        \n",
    "        if best_score>=score_candidate[-1][0]:\n",
    "            stop_count = stop_count+1\n",
    "        else:\n",
    "            stop_count = 0\n",
    "        \n",
    "        if stop_count==stop:\n",
    "            break\n",
    "        \n",
    "        best_score = score_candidate[-1][0]\n",
    "        next_population=[]\n",
    "        ###best 염색체 2개 보존\n",
    "        next_population.append(np.array(score_candidate[-1][1]))\n",
    "        next_population.append(np.array(score_candidate[-2][1]))\n",
    "      \n",
    "        ###Deterministic approch\n",
    "        if select_type == 'Deterministic':\n",
    "            parent_set = score_candidate[round((1-select_ratio)*population):]\n",
    "        ###Probabilistic approch\n",
    "        else: \n",
    "            scores = [i[0] for i in score_candidate]\n",
    "            select_index = np.random.choice(len(score_candidate), \n",
    "                                            round(select_ratio*population), \n",
    "                                            p=scores/np.sum(scores), \n",
    "                                            replace=False)\n",
    "            parent_set = [score_candidate[i] for i in select_index]\n",
    "      \n",
    "        ###다음 세대 구성\n",
    "        while len(next_population)<population:\n",
    "            m=random.randrange(0,len(parent_set))\n",
    "            f=random.randrange(0,len(parent_set))\n",
    "            mother=parent_set[m][1]\n",
    "            father=parent_set[f][1]\n",
    "            next_population=next_population+cro_mut(mother,father,crossover,mutation,var_length)\n",
    "            \n",
    "        old_population = next_population\n",
    "        \n",
    "    ###반복이 종료된 후 마지막 세대의 best 염색체 선정 및 모델 반환\n",
    "    for ind in range(population):\n",
    "        temp=old_population[ind]\n",
    "        temp_var=var[temp==1]\n",
    "        Temp_X_train = X_train.iloc[:, temp_var]\n",
    "        Temp_X_val   = X_val.iloc[:, temp_var]\n",
    "        model.fit(Temp_X_train,y_train)\n",
    "        prediction = model.predict(Temp_X_val)\n",
    "        score = Acc(prediction>0.5,y_val,pri=False)\n",
    "        score_candidate.append((score,list(temp)))\n",
    "        \n",
    "    score_candidate.sort()\n",
    "    best_chr=score_candidate[-1][1]\n",
    "    best_var=var[np.array(best_chr)==1]\n",
    "    best_X_train = X_train.iloc[:,best_var]\n",
    "    best_X_val   = X_val.iloc[:,best_var]\n",
    "    model.fit(best_X_train,y_train)\n",
    "    prediction = model.predict(best_X_val)\n",
    "    best_score = Acc(prediction>0.5,y_val,pri=False)\n",
    "    print(score_candidate[-1][0]==best_score)\n",
    "    \n",
    "    return model, best_var, best_score "
   ]
  },
  {
   "cell_type": "code",
   "execution_count": 26,
   "metadata": {
    "ExecuteTime": {
     "end_time": "2023-06-28T17:22:48.095915Z",
     "start_time": "2023-06-28T17:19:24.132246Z"
    },
    "scrolled": true
   },
   "outputs": [
    {
     "name": "stdout",
     "output_type": "stream",
     "text": [
      "0 th Best Score: 0.9328214971209213\n",
      "1 th Best Score: 0.9347408829174664\n",
      "2 th Best Score: 0.9347408829174664\n",
      "3 th Best Score: 0.9366602687140115\n",
      "4 th Best Score: 0.9385796545105566\n",
      "5 th Best Score: 0.9404990403071017\n",
      "6 th Best Score: 0.9404990403071017\n",
      "7 th Best Score: 0.9404990403071017\n",
      "8 th Best Score: 0.9404990403071017\n",
      "9 th Best Score: 0.9404990403071017\n",
      "10 th Best Score: 0.9424184261036468\n",
      "11 th Best Score: 0.9424184261036468\n",
      "12 th Best Score: 0.946257197696737\n",
      "13 th Best Score: 0.9481765834932822\n",
      "14 th Best Score: 0.9481765834932822\n",
      "15 th Best Score: 0.9481765834932822\n",
      "16 th Best Score: 0.9481765834932822\n",
      "17 th Best Score: 0.9481765834932822\n",
      "18 th Best Score: 0.9481765834932822\n",
      "True\n"
     ]
    }
   ],
   "source": [
    "best_model, best_var, best_score = GA(LinearRegression(), \n",
    "                                      X_train,\n",
    "                                      y_train,\n",
    "                                      X_val,\n",
    "                                      y_val,\n",
    "                                      iteration=30, \n",
    "                                      stop=5, \n",
    "                                      select_ratio=0.5,\n",
    "                                      select_type='Deterministic',\n",
    "                                      population=200, \n",
    "                                      crossover=2, \n",
    "                                      mutation=100)"
   ]
  },
  {
   "cell_type": "code",
   "execution_count": 27,
   "metadata": {
    "ExecuteTime": {
     "end_time": "2023-06-28T17:22:48.162390Z",
     "start_time": "2023-06-28T17:22:48.105243Z"
    }
   },
   "outputs": [
    {
     "name": "stdout",
     "output_type": "stream",
     "text": [
      "선형 회귀 GA\n",
      "Accuracy: 92.9 %\n",
      "선택된 변수 개수: 41\n",
      "Acc 증감: 0.4 %\n"
     ]
    }
   ],
   "source": [
    "pred_test = best_model.predict(X_test.iloc[:,best_var])\n",
    "print(\"선형 회귀 GA\")\n",
    "linear_GA = Acc(pred_test>0.5,y_test)\n",
    "print(\"선택된 변수 개수:\", len(best_var))\n",
    "print(\"Acc 증감:\",round((linear_GA-linear_all)*100,1),\"%\")"
   ]
  },
  {
   "cell_type": "code",
   "execution_count": 28,
   "metadata": {
    "ExecuteTime": {
     "end_time": "2023-06-28T17:32:05.027701Z",
     "start_time": "2023-06-28T17:22:48.164385Z"
    }
   },
   "outputs": [
    {
     "name": "stdout",
     "output_type": "stream",
     "text": [
      "0 th Best Score: 0.9616122840690979\n",
      "1 th Best Score: 0.9616122840690979\n",
      "2 th Best Score: 0.963531669865643\n",
      "3 th Best Score: 0.963531669865643\n",
      "4 th Best Score: 0.9673704414587332\n",
      "5 th Best Score: 0.9692898272552783\n",
      "6 th Best Score: 0.9712092130518234\n",
      "7 th Best Score: 0.9731285988483686\n",
      "8 th Best Score: 0.9731285988483686\n",
      "9 th Best Score: 0.9750479846449136\n",
      "10 th Best Score: 0.9750479846449136\n",
      "11 th Best Score: 0.9750479846449136\n",
      "12 th Best Score: 0.9750479846449136\n",
      "13 th Best Score: 0.9769673704414588\n",
      "14 th Best Score: 0.9769673704414588\n",
      "15 th Best Score: 0.9769673704414588\n",
      "16 th Best Score: 0.9769673704414588\n",
      "17 th Best Score: 0.9769673704414588\n",
      "18 th Best Score: 0.9769673704414588\n",
      "True\n"
     ]
    }
   ],
   "source": [
    "best_model, best_var, best_score = GA(LogisticRegression(solver=\"lbfgs\", max_iter=300), \n",
    "                                      X_train,\n",
    "                                      y_train,\n",
    "                                      X_val,\n",
    "                                      y_val,\n",
    "                                      iteration=30,\n",
    "                                      stop=5,\n",
    "                                      select_ratio=0.5,\n",
    "                                      select_type='Deterministic',\n",
    "                                      population=200, \n",
    "                                      crossover=2, \n",
    "                                      mutation=100)"
   ]
  },
  {
   "cell_type": "code",
   "execution_count": 29,
   "metadata": {
    "ExecuteTime": {
     "end_time": "2023-06-28T17:32:05.049011Z",
     "start_time": "2023-06-28T17:32:05.034054Z"
    }
   },
   "outputs": [
    {
     "name": "stdout",
     "output_type": "stream",
     "text": [
      "로지스틱 회귀 GA\n",
      "Accuracy: 95.4 %\n",
      "선택된 변수 개수: 42\n",
      "Acc 증감: 0.2 %\n"
     ]
    }
   ],
   "source": [
    "pred_test = best_model.predict(X_test.iloc[:,best_var])\n",
    "print(\"로지스틱 회귀 GA\")\n",
    "logistic_GA = Acc(pred_test>0.5,y_test)\n",
    "print(\"선택된 변수 개수:\", len(best_var))\n",
    "print(\"Acc 증감:\",round((logistic_GA-logistic_all)*100,1),\"%\")"
   ]
  },
  {
   "cell_type": "markdown",
   "metadata": {},
   "source": [
    "---"
   ]
  }
 ],
 "metadata": {
  "hide_input": false,
  "kernelspec": {
   "display_name": "Python 3",
   "language": "python",
   "name": "python3"
  },
  "language_info": {
   "codemirror_mode": {
    "name": "ipython",
    "version": 3
   },
   "file_extension": ".py",
   "mimetype": "text/x-python",
   "name": "python",
   "nbconvert_exporter": "python",
   "pygments_lexer": "ipython3",
   "version": "3.6.9"
  },
  "latex_envs": {
   "LaTeX_envs_menu_present": true,
   "autoclose": false,
   "autocomplete": true,
   "bibliofile": "biblio.bib",
   "cite_by": "apalike",
   "current_citInitial": 1,
   "eqLabelWithNumbers": true,
   "eqNumInitial": 1,
   "hotkeys": {
    "equation": "Ctrl-E",
    "itemize": "Ctrl-I"
   },
   "labels_anchors": false,
   "latex_user_defs": false,
   "report_style_numbering": false,
   "user_envs_cfg": false
  },
  "nbTranslate": {
   "displayLangs": [
    "ko",
    "en"
   ],
   "hotkey": "alt-t",
   "langInMainMenu": true,
   "sourceLang": "en",
   "targetLang": "ko",
   "useGoogleTranslate": true
  },
  "toc": {
   "base_numbering": 1,
   "nav_menu": {},
   "number_sections": true,
   "sideBar": true,
   "skip_h1_title": false,
   "title_cell": "Table of Contents",
   "title_sidebar": "Contents",
   "toc_cell": false,
   "toc_position": {},
   "toc_section_display": true,
   "toc_window_display": true
  },
  "varInspector": {
   "cols": {
    "lenName": 16,
    "lenType": 16,
    "lenVar": 40
   },
   "kernels_config": {
    "python": {
     "delete_cmd_postfix": "",
     "delete_cmd_prefix": "del ",
     "library": "var_list.py",
     "varRefreshCmd": "print(var_dic_list())"
    },
    "r": {
     "delete_cmd_postfix": ") ",
     "delete_cmd_prefix": "rm(",
     "library": "var_list.r",
     "varRefreshCmd": "cat(var_dic_list()) "
    }
   },
   "types_to_exclude": [
    "module",
    "function",
    "builtin_function_or_method",
    "instance",
    "_Feature"
   ],
   "window_display": false
  }
 },
 "nbformat": 4,
 "nbformat_minor": 2
}
