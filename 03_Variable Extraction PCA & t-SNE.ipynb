{
 "cells": [
  {
   "cell_type": "markdown",
   "metadata": {},
   "source": [
    "# [ LG에너지 솔루션 DX Expert 양성과정 ] 변수선택 및 차원 축소"
   ]
  },
  {
   "cell_type": "markdown",
   "metadata": {},
   "source": [
    "## 주성분분석 & t-SNE"
   ]
  },
  {
   "cell_type": "markdown",
   "metadata": {},
   "source": [
    "### 강의 복습\n",
    "강의자료 : 변수선택 및 차원 축소, 03 주성분분석, 04 t-SNE\n",
    "\n",
    "- 주성분분석 : 대표적인 선형 차원 감소 기법으로써 원래 데이터의 분산을 최대한 보존하는 새로운 기저(축, basis)를 찾고, 그 축에 데\n",
    "이터를 사영(projection)시키는 기법\n",
    "- t-SNE : 가까운 이웃 객체들과의 거리 정보를 잘 보존하는 것이 멀리 떨어진 객체들과의 거리 정보를 보존하는 것보다 더 중요함을 가정으로 local pairwise distance를 확정적(deterministic)이 아닌 확률적(probabilistic)으로 정의함"
   ]
  },
  {
   "cell_type": "markdown",
   "metadata": {},
   "source": [
    "<img src=\"./image/PCA01.png\" width=\"800\">"
   ]
  },
  {
   "cell_type": "markdown",
   "metadata": {},
   "source": [
    "### 실습 요약\n",
    "1. 본 실습에서는 주성분분석을 통해 차원 축소를 진행합니다.\n",
    "2. 분류 과업을 위해 선형 회귀 모델과 로직스틱 모델을 통해 유전 알고리즘 방법의 성능을 확인합니다."
   ]
  },
  {
   "cell_type": "markdown",
   "metadata": {},
   "source": [
    "---"
   ]
  },
  {
   "cell_type": "markdown",
   "metadata": {},
   "source": [
    "### STEP 1. 데이터: 기상 데이터\n",
    "- 기상 정보에 관한 데이터 셋\n",
    "- 현재 시점에서의 기상 상태를 나타내는 총 14개의 독립변수를 갖고 있음\n",
    "- 24시간 후의 기온(섭씨)이 올라갈지 떨어질지 분류하는 것이 목적"
   ]
  },
  {
   "cell_type": "code",
   "execution_count": 1,
   "metadata": {
    "ExecuteTime": {
     "end_time": "2023-06-29T01:29:28.203799Z",
     "start_time": "2023-06-29T01:29:28.199321Z"
    }
   },
   "outputs": [],
   "source": [
    "# github에서 데이터 불러오기\n",
    "# !git clone https://github.com/hwk0702/LG_ES_Variable_selection_Dimension_reduction.git\n",
    "# %cd LG_ES_Variable_selection_Dimension_reduction"
   ]
  },
  {
   "cell_type": "code",
   "execution_count": 2,
   "metadata": {
    "ExecuteTime": {
     "end_time": "2023-06-29T01:29:28.601088Z",
     "start_time": "2023-06-29T01:29:28.207515Z"
    }
   },
   "outputs": [],
   "source": [
    "import numpy as np\n",
    "import pandas as pd\n",
    "weather_data = pd.read_csv('./data/weather_dataset.csv')"
   ]
  },
  {
   "cell_type": "code",
   "execution_count": 3,
   "metadata": {
    "ExecuteTime": {
     "end_time": "2023-06-29T01:29:28.613789Z",
     "start_time": "2023-06-29T01:29:28.605432Z"
    }
   },
   "outputs": [
    {
     "data": {
      "text/plain": [
       "Index(['Date Time', 'p (mbar)', 'T (degC)', 'Tpot (K)', 'Tdew (degC)',\n",
       "       'rh (%)', 'VPmax (mbar)', 'VPact (mbar)', 'VPdef (mbar)', 'sh (g/kg)',\n",
       "       'H2OC (mmol/mol)', 'rho (g/m**3)', 'wv (m/s)', 'max. wv (m/s)',\n",
       "       'wd (deg)'],\n",
       "      dtype='object')"
      ]
     },
     "execution_count": 3,
     "metadata": {},
     "output_type": "execute_result"
    }
   ],
   "source": [
    "weather_data.columns"
   ]
  },
  {
   "cell_type": "code",
   "execution_count": 4,
   "metadata": {
    "ExecuteTime": {
     "end_time": "2023-06-29T01:29:28.705604Z",
     "start_time": "2023-06-29T01:29:28.615449Z"
    },
    "scrolled": true
   },
   "outputs": [
    {
     "data": {
      "text/plain": [
       "0     01.01.2009 00:10:00\n",
       "1     01.01.2009 00:20:00\n",
       "2     01.01.2009 00:30:00\n",
       "3     01.01.2009 00:40:00\n",
       "4     01.01.2009 00:50:00\n",
       "5     01.01.2009 01:00:00\n",
       "6     01.01.2009 01:10:00\n",
       "7     01.01.2009 01:20:00\n",
       "8     01.01.2009 01:30:00\n",
       "9     01.01.2009 01:40:00\n",
       "10    01.01.2009 01:50:00\n",
       "Name: Date Time, dtype: object"
      ]
     },
     "execution_count": 4,
     "metadata": {},
     "output_type": "execute_result"
    }
   ],
   "source": [
    "#10분 단위로 측정된 시계열 데이터 셋\n",
    "weather_data.loc[:10,'Date Time']"
   ]
  },
  {
   "cell_type": "code",
   "execution_count": 5,
   "metadata": {
    "ExecuteTime": {
     "end_time": "2023-06-29T01:29:28.789517Z",
     "start_time": "2023-06-29T01:29:28.708728Z"
    }
   },
   "outputs": [],
   "source": [
    "# Label 분리 및 불필요한 변수 제거\n",
    "weather_labels = weather_data.loc[:,'T (degC)']\n",
    "weather_data = weather_data.drop('Date Time',axis=1)"
   ]
  },
  {
   "cell_type": "markdown",
   "metadata": {},
   "source": [
    "### STEP 2. Data Split\n",
    "- 시계열 데이터는 순서 정보가 필요할 경우 무작위 추출 방식을 사용할 수 없음\n",
    "- 24시간 후의 기온을 예측하는 것이 목적이므로 시계열 순서를 보존하면서 Train Set과 Test Set을 구성함"
   ]
  },
  {
   "cell_type": "code",
   "execution_count": 6,
   "metadata": {
    "ExecuteTime": {
     "end_time": "2023-06-29T01:29:28.876506Z",
     "start_time": "2023-06-29T01:29:28.792632Z"
    }
   },
   "outputs": [],
   "source": [
    "#10분*144 = 24시간\n",
    "idx = np.arange(weather_data.shape[0]-144)\n",
    "\n",
    "#Train:Test = 8:2\n",
    "tr_ratio = 0.8 \n",
    "tr_point = int(len(idx)*tr_ratio)\n",
    "\n",
    "train_idx = idx[0:tr_point]\n",
    "test_idx = idx[tr_point:]"
   ]
  },
  {
   "cell_type": "code",
   "execution_count": 7,
   "metadata": {
    "ExecuteTime": {
     "end_time": "2023-06-29T01:29:29.002604Z",
     "start_time": "2023-06-29T01:29:28.879834Z"
    }
   },
   "outputs": [],
   "source": [
    "weather_X_train = weather_data.iloc[train_idx]\n",
    "weather_y_train = weather_labels[train_idx+144].reset_index(drop=True)-weather_labels[train_idx].reset_index(drop=True)>=0\n",
    "\n",
    "weather_X_test = weather_data.iloc[test_idx]\n",
    "weather_y_test = weather_labels[test_idx+144].reset_index(drop=True)-weather_labels[test_idx].reset_index(drop=True)>=0"
   ]
  },
  {
   "cell_type": "code",
   "execution_count": 8,
   "metadata": {
    "ExecuteTime": {
     "end_time": "2023-06-29T01:29:29.120009Z",
     "start_time": "2023-06-29T01:29:29.006334Z"
    }
   },
   "outputs": [],
   "source": [
    "#Malware Classification 데이터 셋 load\n",
    "malware_data = pd.read_csv('./data/Malwares Classification.csv')"
   ]
  },
  {
   "cell_type": "code",
   "execution_count": 9,
   "metadata": {
    "ExecuteTime": {
     "end_time": "2023-06-29T01:29:29.150037Z",
     "start_time": "2023-06-29T01:29:29.122814Z"
    }
   },
   "outputs": [],
   "source": [
    "malware_data = malware_data.dropna(axis=0)\n",
    "malware_labels = malware_data.loc[:,'class']\n",
    "malware_data = malware_data.drop('class',axis=1)"
   ]
  },
  {
   "cell_type": "code",
   "execution_count": 10,
   "metadata": {
    "ExecuteTime": {
     "end_time": "2023-06-29T01:29:29.673298Z",
     "start_time": "2023-06-29T01:29:29.153241Z"
    }
   },
   "outputs": [],
   "source": [
    "from sklearn.model_selection import train_test_split\n",
    "malware_X_train, malware_X_test, malware_y_train, malware_y_test = train_test_split(malware_data, malware_labels, test_size=0.2, random_state=42)"
   ]
  },
  {
   "cell_type": "markdown",
   "metadata": {},
   "source": [
    "### STEP 3. 모델 학습 및 평가\n",
    "- 랜덤 포레스트 모델을 활용하여 데이터를 학습하고 분류 성능을 측정함\n",
    "- 기상 데이터 셋과 malware classification 데이터 셋에 대한 결과를 비교함"
   ]
  },
  {
   "cell_type": "code",
   "execution_count": 11,
   "metadata": {
    "ExecuteTime": {
     "end_time": "2023-06-29T01:29:29.725818Z",
     "start_time": "2023-06-29T01:29:29.674774Z"
    }
   },
   "outputs": [],
   "source": [
    "from sklearn.ensemble import RandomForestClassifier"
   ]
  },
  {
   "cell_type": "code",
   "execution_count": 12,
   "metadata": {
    "ExecuteTime": {
     "end_time": "2023-06-29T01:29:30.759186Z",
     "start_time": "2023-06-29T01:29:29.727215Z"
    }
   },
   "outputs": [
    {
     "data": {
      "text/plain": [
       "RandomForestClassifier(max_depth=10, n_jobs=-1)"
      ]
     },
     "execution_count": 12,
     "metadata": {},
     "output_type": "execute_result"
    }
   ],
   "source": [
    "# 기상 데이터 \n",
    "weather_ranfo = RandomForestClassifier(n_estimators=100,n_jobs=-1,max_depth=10)\n",
    "weather_ranfo.fit(weather_X_train, weather_y_train)\n",
    "# malware 데이터\n",
    "malware_ranfo = RandomForestClassifier(n_estimators=100,n_jobs=-1,max_depth=10)\n",
    "malware_ranfo.fit(malware_X_train, malware_y_train)"
   ]
  },
  {
   "cell_type": "code",
   "execution_count": 13,
   "metadata": {
    "ExecuteTime": {
     "end_time": "2023-06-29T01:29:31.230095Z",
     "start_time": "2023-06-29T01:29:30.762463Z"
    }
   },
   "outputs": [],
   "source": [
    "weather_pred_train = weather_ranfo.predict(weather_X_train)\n",
    "weather_pred_test  = weather_ranfo.predict(weather_X_test)\n",
    "weather_acc_train  = np.sum(weather_pred_train==weather_y_train)/len(weather_y_train)\n",
    "weather_acc_test   = np.sum(weather_pred_test==weather_y_test)/len(weather_y_test)\n",
    "\n",
    "malware_pred_train = malware_ranfo.predict(malware_X_train)\n",
    "malware_pred_test  = malware_ranfo.predict(malware_X_test)\n",
    "malware_acc_train  = np.sum(malware_pred_train==malware_y_train)/len(malware_y_train)\n",
    "malware_acc_test   = np.sum(malware_pred_test==malware_y_test)/len(malware_y_test)"
   ]
  },
  {
   "cell_type": "code",
   "execution_count": 14,
   "metadata": {
    "ExecuteTime": {
     "end_time": "2023-06-29T01:29:31.242174Z",
     "start_time": "2023-06-29T01:29:31.233957Z"
    },
    "scrolled": true
   },
   "outputs": [
    {
     "name": "stdout",
     "output_type": "stream",
     "text": [
      "weather_train ACC: 0.9027323092420045\n",
      "weather_test ACC: 0.5521148036253777\n",
      "malware_train ACC: 0.996641074856046\n",
      "malware_test ACC: 0.9884836852207294\n"
     ]
    }
   ],
   "source": [
    "print(\"weather_train ACC:\", weather_acc_train)\n",
    "print(\"weather_test ACC:\", weather_acc_test)\n",
    "print(\"malware_train ACC:\", malware_acc_train)\n",
    "print(\"malware_test ACC:\", malware_acc_test)"
   ]
  },
  {
   "cell_type": "markdown",
   "metadata": {},
   "source": [
    "### STEP 4. PCA & t-SNE\n",
    "- 차원 축소 기법인 PCA와 t-SNE를 활용하여 2차원 상에서의 class별 산포를 확인함\n",
    "- 기상 데이터 셋과 malware classification 데이터 셋의 결과를 비교함\n",
    "- PCA 기법을 활용하여 차원을 축소하였을 때, 분류 성능을 확인함"
   ]
  },
  {
   "cell_type": "markdown",
   "metadata": {},
   "source": [
    "#### STEP 4.1. PCA를 활용한 2차원 산포 비교\n",
    "- PCA는 데이터의 분산을 가장 잘 설명하는 새로운 직교 좌표계를 찾아 데이터의 차원을 축소하는 기법\n",
    "- 이 때, 정규화되지 않은 데이터 셋을 사용할 경우 절대값의 크기가 큰 변수에 크게 영향을 받게 되는 문제가 발생함\n",
    "- 따라서 정규화를 사용한 후 PCA를 하는 것이 좋음"
   ]
  },
  {
   "cell_type": "code",
   "execution_count": 15,
   "metadata": {
    "ExecuteTime": {
     "end_time": "2023-06-29T01:29:31.621830Z",
     "start_time": "2023-06-29T01:29:31.245276Z"
    }
   },
   "outputs": [],
   "source": [
    "from sklearn.decomposition import PCA\n",
    "import matplotlib.pyplot as plt"
   ]
  },
  {
   "cell_type": "code",
   "execution_count": 16,
   "metadata": {
    "ExecuteTime": {
     "end_time": "2023-06-29T01:29:31.668703Z",
     "start_time": "2023-06-29T01:29:31.623359Z"
    }
   },
   "outputs": [],
   "source": [
    "#weather 데이터 셋 PCA 결과, 정규화X\n",
    "pca = PCA(n_components=2)\n",
    "weather_pc = pca.fit_transform(weather_X_test)"
   ]
  },
  {
   "cell_type": "code",
   "execution_count": 17,
   "metadata": {
    "ExecuteTime": {
     "end_time": "2023-06-29T01:29:31.710225Z",
     "start_time": "2023-06-29T01:29:31.670837Z"
    }
   },
   "outputs": [
    {
     "name": "stdout",
     "output_type": "stream",
     "text": [
      "[[-7.98236560e-03 -5.12701758e-03 -4.47439401e-03  1.29038502e-03\n",
      "   2.78062872e-02 -4.70662979e-03  8.61733469e-04 -5.56826820e-03\n",
      "   6.00206043e-04  9.58032458e-04  1.16830773e-02 -2.77867972e-03\n",
      "  -3.96153343e-03  9.99449865e-01]\n",
      " [-1.00192681e-01  1.53107817e-01  1.61867289e-01  2.47392675e-02\n",
      "  -5.43941919e-01  1.50136391e-01  1.64506481e-02  1.33687284e-01\n",
      "   1.10424854e-02  1.76179237e-02 -7.74812658e-01  2.12903388e-02\n",
      "   3.50460391e-02  2.64806718e-02]]\n",
      "1.0000000000000004\n",
      "1.0000000000000002\n"
     ]
    }
   ],
   "source": [
    "#pca의 결과 주성분 축\n",
    "#(n_components, n_features)\n",
    "print(pca.components_)\n",
    "print(np.sum(pca.components_[0]**2))\n",
    "print(np.sum(pca.components_[1]**2))"
   ]
  },
  {
   "cell_type": "code",
   "execution_count": 18,
   "metadata": {
    "ExecuteTime": {
     "end_time": "2023-06-29T01:29:31.784219Z",
     "start_time": "2023-06-29T01:29:31.711891Z"
    },
    "scrolled": true
   },
   "outputs": [
    {
     "name": "stdout",
     "output_type": "stream",
     "text": [
      "[0.89351724 0.08519926]\n"
     ]
    }
   ],
   "source": [
    "#pca 설명 가능한 분산량\n",
    "print(pca.explained_variance_ratio_)"
   ]
  },
  {
   "cell_type": "code",
   "execution_count": 19,
   "metadata": {
    "ExecuteTime": {
     "end_time": "2023-06-29T01:29:31.870659Z",
     "start_time": "2023-06-29T01:29:31.785777Z"
    }
   },
   "outputs": [
    {
     "data": {
      "text/plain": [
       "array([[ -28.38816464,  -24.59051672],\n",
       "       [ -51.93965728,  -22.26833022],\n",
       "       [-134.71045555,  -21.83048628],\n",
       "       [-131.71413817,  -19.57992184],\n",
       "       [-165.22294516,  -13.77797787],\n",
       "       [-124.37121136,   -6.50083988],\n",
       "       [-157.49222758,   -6.29242688],\n",
       "       [-160.85185436,   -8.38309364],\n",
       "       [-160.28692469,   -7.77440333],\n",
       "       [-167.30717844,   -4.88786501]])"
      ]
     },
     "execution_count": 19,
     "metadata": {},
     "output_type": "execute_result"
    }
   ],
   "source": [
    "weather_pc[:10]"
   ]
  },
  {
   "cell_type": "code",
   "execution_count": 20,
   "metadata": {
    "ExecuteTime": {
     "end_time": "2023-06-29T01:29:32.145666Z",
     "start_time": "2023-06-29T01:29:31.873802Z"
    }
   },
   "outputs": [
    {
     "data": {
      "image/png": "[encoded data removed]",
      "text/plain": [
       "<Figure size 432x288 with 1 Axes>"
      ]
     },
     "metadata": {
      "needs_background": "light"
     },
     "output_type": "display_data"
    }
   ],
   "source": [
    "plt.scatter(weather_pc[weather_y_test==0, 0], weather_pc[weather_y_test==0, 1], c='blue', label='0')\n",
    "plt.scatter(weather_pc[weather_y_test==1, 0], weather_pc[weather_y_test==1, 1], c='orange', label='1')\n",
    "plt.xlabel('component 0')\n",
    "plt.ylabel('component 1')\n",
    "plt.legend()\n",
    "plt.show()"
   ]
  },
  {
   "cell_type": "code",
   "execution_count": 21,
   "metadata": {
    "ExecuteTime": {
     "end_time": "2023-06-29T01:29:32.195173Z",
     "start_time": "2023-06-29T01:29:32.147009Z"
    }
   },
   "outputs": [],
   "source": [
    "#malware 데이터 셋 PCA 결과, 정규화X\n",
    "pca = PCA(n_components=2)\n",
    "malware_pc = pca.fit_transform(malware_X_test)"
   ]
  },
  {
   "cell_type": "code",
   "execution_count": 22,
   "metadata": {
    "ExecuteTime": {
     "end_time": "2023-06-29T01:29:32.225588Z",
     "start_time": "2023-06-29T01:29:32.197206Z"
    }
   },
   "outputs": [
    {
     "name": "stdout",
     "output_type": "stream",
     "text": [
      "[0.98123404 0.01459948]\n"
     ]
    }
   ],
   "source": [
    "#pca 설명 가능한 분산량\n",
    "print(pca.explained_variance_ratio_)"
   ]
  },
  {
   "cell_type": "code",
   "execution_count": 23,
   "metadata": {
    "ExecuteTime": {
     "end_time": "2023-06-29T01:29:32.301601Z",
     "start_time": "2023-06-29T01:29:32.227521Z"
    }
   },
   "outputs": [
    {
     "data": {
      "text/plain": [
       "array([[-4531610.25296423,  -597221.65922089],\n",
       "       [-4171133.13358315,  -592004.89555266],\n",
       "       [-4455305.9671626 ,  -593699.66006293],\n",
       "       [-4220921.89762247,  -591960.3567737 ],\n",
       "       [-4682329.56906789,  -597311.68851172],\n",
       "       [-4682529.4021186 ,  -599227.26922683],\n",
       "       [-4369894.96380091,  -596024.69066158],\n",
       "       [-4682530.4555337 ,  -599250.26598509],\n",
       "       [-4682347.66212633,  -467103.97844193],\n",
       "       [-4682241.24648347,  -596826.2417441 ]])"
      ]
     },
     "execution_count": 23,
     "metadata": {},
     "output_type": "execute_result"
    }
   ],
   "source": [
    "malware_pc[0:10]"
   ]
  },
  {
   "cell_type": "code",
   "execution_count": 24,
   "metadata": {
    "ExecuteTime": {
     "end_time": "2023-06-29T01:29:32.527230Z",
     "start_time": "2023-06-29T01:29:32.303404Z"
    }
   },
   "outputs": [
    {
     "data": {
      "image/png": "[encoded data removed]",
      "text/plain": [
       "<Figure size 432x288 with 1 Axes>"
      ]
     },
     "metadata": {
      "needs_background": "light"
     },
     "output_type": "display_data"
    }
   ],
   "source": [
    "plt.scatter(malware_pc[malware_y_test==0, 0], malware_pc[malware_y_test==0, 1], c='blue', label='0')\n",
    "plt.scatter(malware_pc[malware_y_test==1, 0], malware_pc[malware_y_test==1, 1], c='orange', label='1')\n",
    "plt.xlabel('component 0')\n",
    "plt.ylabel('component 1')\n",
    "plt.legend()\n",
    "plt.show()"
   ]
  },
  {
   "cell_type": "code",
   "execution_count": 25,
   "metadata": {
    "ExecuteTime": {
     "end_time": "2023-06-29T01:29:32.539361Z",
     "start_time": "2023-06-29T01:29:32.528522Z"
    }
   },
   "outputs": [],
   "source": [
    "# train 데이터를 기반으로 train/test 데이터에 대하여 standard scaling 적용 (평균 0, 분산 1) \n",
    "from sklearn.preprocessing import StandardScaler\n",
    "weather_scaler = StandardScaler()\n",
    "weather_scaler = weather_scaler.fit(weather_X_train)\n",
    "\n",
    "malware_scaler = StandardScaler()\n",
    "malware_scaler = malware_scaler.fit(malware_X_train)"
   ]
  },
  {
   "cell_type": "code",
   "execution_count": 26,
   "metadata": {
    "ExecuteTime": {
     "end_time": "2023-06-29T01:29:32.636716Z",
     "start_time": "2023-06-29T01:29:32.540886Z"
    }
   },
   "outputs": [],
   "source": [
    "weather_X_train_s = pd.DataFrame(weather_scaler.transform(weather_X_train),\n",
    "                                 columns=weather_X_train.columns,\n",
    "                                 index=weather_X_train.index)\n",
    "weather_X_test_s  = pd.DataFrame(weather_scaler.transform(weather_X_test),\n",
    "                                 columns=weather_X_test.columns,\n",
    "                                 index=weather_X_test.index)\n",
    "\n",
    "malware_X_train_s = pd.DataFrame(malware_scaler.transform(malware_X_train),\n",
    "                                 columns=malware_X_train.columns,\n",
    "                                 index=malware_X_train.index)\n",
    "malware_X_test_s  = pd.DataFrame(malware_scaler.transform(malware_X_test),\n",
    "                                 columns=malware_X_test.columns,\n",
    "                                 index=malware_X_test.index)"
   ]
  },
  {
   "cell_type": "code",
   "execution_count": 27,
   "metadata": {
    "ExecuteTime": {
     "end_time": "2023-06-29T01:29:32.825465Z",
     "start_time": "2023-06-29T01:29:32.648107Z"
    },
    "scrolled": true
   },
   "outputs": [],
   "source": [
    "#weather 데이터 셋 PCA 결과, 정규화O\n",
    "pca = PCA(n_components=2)\n",
    "weather_pc = pca.fit_transform(weather_X_test_s)"
   ]
  },
  {
   "cell_type": "code",
   "execution_count": 28,
   "metadata": {
    "ExecuteTime": {
     "end_time": "2023-06-29T01:29:32.851622Z",
     "start_time": "2023-06-29T01:29:32.841492Z"
    }
   },
   "outputs": [
    {
     "name": "stdout",
     "output_type": "stream",
     "text": [
      "[0.51580145 0.2659773 ]\n"
     ]
    }
   ],
   "source": [
    "#pca 설명 가능한 분산량\n",
    "print(pca.explained_variance_ratio_)"
   ]
  },
  {
   "cell_type": "code",
   "execution_count": 29,
   "metadata": {
    "ExecuteTime": {
     "end_time": "2023-06-29T01:29:32.926816Z",
     "start_time": "2023-06-29T01:29:32.854932Z"
    }
   },
   "outputs": [
    {
     "data": {
      "text/plain": [
       "array([[-1.63380517,  2.24025402],\n",
       "       [-1.4643003 ,  2.08149382],\n",
       "       [-1.04627415,  2.35074258],\n",
       "       [-1.03089231,  2.27645897],\n",
       "       [-0.4524125 ,  2.20504295],\n",
       "       [ 0.05724166,  2.21842285],\n",
       "       [ 0.48365256,  2.74043699],\n",
       "       [ 0.45499271,  2.81689582],\n",
       "       [ 0.49484511,  2.79628802],\n",
       "       [ 0.80966292,  2.86524469]])"
      ]
     },
     "execution_count": 29,
     "metadata": {},
     "output_type": "execute_result"
    }
   ],
   "source": [
    "weather_pc[:10]"
   ]
  },
  {
   "cell_type": "code",
   "execution_count": 30,
   "metadata": {
    "ExecuteTime": {
     "end_time": "2023-06-29T01:29:33.154065Z",
     "start_time": "2023-06-29T01:29:32.928690Z"
    }
   },
   "outputs": [
    {
     "data": {
      "image/png": "[encoded data removed]",
      "text/plain": [
       "<Figure size 432x288 with 1 Axes>"
      ]
     },
     "metadata": {
      "needs_background": "light"
     },
     "output_type": "display_data"
    }
   ],
   "source": [
    "plt.scatter(weather_pc[weather_y_test==0, 0], weather_pc[weather_y_test==0, 1], c='blue', label='0')\n",
    "plt.scatter(weather_pc[weather_y_test==1, 0], weather_pc[weather_y_test==1, 1], c='orange', label='1')\n",
    "plt.xlabel('component 0')\n",
    "plt.ylabel('component 1')\n",
    "plt.legend()\n",
    "plt.show()"
   ]
  },
  {
   "cell_type": "code",
   "execution_count": 31,
   "metadata": {
    "ExecuteTime": {
     "end_time": "2023-06-29T01:29:33.223891Z",
     "start_time": "2023-06-29T01:29:33.155530Z"
    }
   },
   "outputs": [],
   "source": [
    "#malware 데이터 셋 PCA 결과, 정규화O\n",
    "pca = PCA(n_components=2)\n",
    "malware_pc = pca.fit_transform(malware_X_test_s)"
   ]
  },
  {
   "cell_type": "code",
   "execution_count": 32,
   "metadata": {
    "ExecuteTime": {
     "end_time": "2023-06-29T01:29:33.242273Z",
     "start_time": "2023-06-29T01:29:33.227102Z"
    }
   },
   "outputs": [
    {
     "name": "stdout",
     "output_type": "stream",
     "text": [
      "[0.14911463 0.10845806]\n"
     ]
    }
   ],
   "source": [
    "#pca 설명 가능한 분산량\n",
    "print(pca.explained_variance_ratio_)"
   ]
  },
  {
   "cell_type": "code",
   "execution_count": 33,
   "metadata": {
    "ExecuteTime": {
     "end_time": "2023-06-29T01:29:33.327243Z",
     "start_time": "2023-06-29T01:29:33.244388Z"
    }
   },
   "outputs": [
    {
     "data": {
      "text/plain": [
       "array([[-0.49400114,  0.42321343],\n",
       "       [-1.07363519,  4.07122281],\n",
       "       [-1.13496959,  3.56271255],\n",
       "       [-0.93854745,  3.55506973],\n",
       "       [ 0.08837507, -2.21323707],\n",
       "       [-0.39229165, -0.08420752],\n",
       "       [-0.04420908, -1.1017402 ],\n",
       "       [-0.39297718, -0.08902477],\n",
       "       [ 0.61426201, -1.46122362],\n",
       "       [ 0.01604967, -1.24409696]])"
      ]
     },
     "execution_count": 33,
     "metadata": {},
     "output_type": "execute_result"
    }
   ],
   "source": [
    "malware_pc[0:10]"
   ]
  },
  {
   "cell_type": "code",
   "execution_count": 34,
   "metadata": {
    "ExecuteTime": {
     "end_time": "2023-06-29T01:29:33.545258Z",
     "start_time": "2023-06-29T01:29:33.330486Z"
    }
   },
   "outputs": [
    {
     "data": {
      "image/png": "[encoded data removed]",
      "text/plain": [
       "<Figure size 432x288 with 1 Axes>"
      ]
     },
     "metadata": {
      "needs_background": "light"
     },
     "output_type": "display_data"
    }
   ],
   "source": [
    "plt.scatter(malware_pc[malware_y_test==0, 0], malware_pc[malware_y_test==0, 1], c='blue', label='0')\n",
    "plt.scatter(malware_pc[malware_y_test==1, 0], malware_pc[malware_y_test==1, 1], c='orange', label='1')\n",
    "plt.xlabel('component 0')\n",
    "plt.ylabel('component 1')\n",
    "plt.legend()\n",
    "plt.show()"
   ]
  },
  {
   "cell_type": "markdown",
   "metadata": {},
   "source": [
    "#### STEP 4.2. t-SNE를 활용한 2차원 산포 비교\n",
    "- SNE 고차원 공간상에서의 이웃간의 거리 정보를 저차원 공간상에서도 잘 보존하도록 차원을 축소하는 기법\n",
    "- 정규 분포를 사용하는 SNE와 달리 t-SNE는 t 분포를 사용하면 좀 더 멀리있는 객체에 대한 정보까지도 잘 반영함\n",
    "- 선형 방식으로 정사영하는 PCA와 달리 데이터의 manifold를 고려하므로 시각화 결과 데이터가 더욱 잘 분리되는 경향이 있음"
   ]
  },
  {
   "cell_type": "code",
   "execution_count": 35,
   "metadata": {
    "ExecuteTime": {
     "end_time": "2023-06-29T01:29:33.552723Z",
     "start_time": "2023-06-29T01:29:33.546591Z"
    }
   },
   "outputs": [],
   "source": [
    "from sklearn.manifold import TSNE"
   ]
  },
  {
   "cell_type": "code",
   "execution_count": 36,
   "metadata": {
    "ExecuteTime": {
     "end_time": "2023-06-29T01:29:43.508947Z",
     "start_time": "2023-06-29T01:29:33.553994Z"
    }
   },
   "outputs": [],
   "source": [
    "weather_tsne = TSNE(n_components = 2, \n",
    "                    perplexity=30.0, \n",
    "                    learning_rate=200.0, \n",
    "                    n_iter=1000, \n",
    "                    random_state=0).fit_transform(weather_X_test_s)"
   ]
  },
  {
   "cell_type": "code",
   "execution_count": 37,
   "metadata": {
    "ExecuteTime": {
     "end_time": "2023-06-29T01:29:43.691439Z",
     "start_time": "2023-06-29T01:29:43.512844Z"
    }
   },
   "outputs": [
    {
     "data": {
      "image/png": "[encoded data removed]",
      "text/plain": [
       "<Figure size 432x288 with 1 Axes>"
      ]
     },
     "metadata": {
      "needs_background": "light"
     },
     "output_type": "display_data"
    }
   ],
   "source": [
    "plt.scatter(weather_tsne[weather_y_test==0, 0], weather_tsne[weather_y_test==0, 1], c='blue', label='0')\n",
    "plt.scatter(weather_tsne[weather_y_test==1, 0], weather_tsne[weather_y_test==1, 1], c='orange', label='1')\n",
    "plt.xlabel('component 0')\n",
    "plt.ylabel('component 1')\n",
    "plt.legend()\n",
    "plt.show()"
   ]
  },
  {
   "cell_type": "code",
   "execution_count": 38,
   "metadata": {
    "ExecuteTime": {
     "end_time": "2023-06-29T01:29:47.789921Z",
     "start_time": "2023-06-29T01:29:43.692850Z"
    }
   },
   "outputs": [],
   "source": [
    "malware_tsne = TSNE(n_components = 2, \n",
    "                    perplexity=30.0, \n",
    "                    learning_rate=200.0, \n",
    "                    n_iter=1000, \n",
    "                    random_state=0).fit_transform(malware_X_test_s)"
   ]
  },
  {
   "cell_type": "code",
   "execution_count": 39,
   "metadata": {
    "ExecuteTime": {
     "end_time": "2023-06-29T01:29:47.937534Z",
     "start_time": "2023-06-29T01:29:47.791222Z"
    },
    "scrolled": true
   },
   "outputs": [
    {
     "data": {
      "image/png": "[encoded data removed]",
      "text/plain": [
       "<Figure size 432x288 with 1 Axes>"
      ]
     },
     "metadata": {
      "needs_background": "light"
     },
     "output_type": "display_data"
    }
   ],
   "source": [
    "plt.scatter(malware_tsne[malware_y_test==0, 0], malware_tsne[malware_y_test==0, 1], c='blue', label='0')\n",
    "plt.scatter(malware_tsne[malware_y_test==1, 0], malware_tsne[malware_y_test==1, 1], c='orange', label='1')\n",
    "plt.xlabel('component 0')\n",
    "plt.ylabel('component 1')\n",
    "plt.legend()\n",
    "plt.show()"
   ]
  },
  {
   "cell_type": "markdown",
   "metadata": {},
   "source": [
    "### STEP 5. Perplexity에 따른 분포 비교\n",
    "- perplexity가 높을 수록 더 넓은 범위의 이웃들을 고려할 수 있음\n",
    "- 반대로 perplexity가 낮다면 좁은 범위의 이웃들만 고려하게 됨\n",
    "- 따라서 perplexity를 너무 낮게 설정하면 crowding problem이 발생할 수 있음\n",
    "- 일반적으로 5~50 정도의 값이면 적당하고, 이 값에 크게 민감하지 않음"
   ]
  },
  {
   "cell_type": "code",
   "execution_count": 40,
   "metadata": {
    "ExecuteTime": {
     "end_time": "2023-06-29T01:29:49.650083Z",
     "start_time": "2023-06-29T01:29:47.938962Z"
    }
   },
   "outputs": [],
   "source": [
    "malware_tsne = TSNE(n_components = 2, \n",
    "                    perplexity=10, \n",
    "                    learning_rate=200.0, \n",
    "                    n_iter=1000, \n",
    "                    random_state=0).fit_transform(malware_X_test_s)"
   ]
  },
  {
   "cell_type": "code",
   "execution_count": 41,
   "metadata": {
    "ExecuteTime": {
     "end_time": "2023-06-29T01:29:49.801812Z",
     "start_time": "2023-06-29T01:29:49.651442Z"
    }
   },
   "outputs": [
    {
     "data": {
      "image/png": "[encoded data removed]",
      "text/plain": [
       "<Figure size 432x288 with 1 Axes>"
      ]
     },
     "metadata": {
      "needs_background": "light"
     },
     "output_type": "display_data"
    }
   ],
   "source": [
    "plt.scatter(malware_tsne[malware_y_test==0, 0], malware_tsne[malware_y_test==0, 1], c='blue', label='0')\n",
    "plt.scatter(malware_tsne[malware_y_test==1, 0], malware_tsne[malware_y_test==1, 1], c='orange', label='1')\n",
    "plt.xlabel('component 0')\n",
    "plt.ylabel('component 1')\n",
    "plt.legend()\n",
    "plt.show()"
   ]
  },
  {
   "cell_type": "markdown",
   "metadata": {},
   "source": [
    "### STEP 6. PCA Variable Extraction\n",
    "- PCA를 활용하여 variable extraction을 진행한 후 분류 모델을 학습함\n",
    "- 기존 분류 모델과의 성능 비교를 통해 PCA variable extracion 효과를 확인함"
   ]
  },
  {
   "cell_type": "code",
   "execution_count": 42,
   "metadata": {
    "ExecuteTime": {
     "end_time": "2023-06-29T01:29:49.872290Z",
     "start_time": "2023-06-29T01:29:49.803097Z"
    }
   },
   "outputs": [],
   "source": [
    "#weather 데이터 셋 PCA 결과, 정규화O\n",
    "pca = PCA(n_components=2)\n",
    "weather_pc = pca.fit_transform(weather_X_train_s)"
   ]
  },
  {
   "cell_type": "code",
   "execution_count": 43,
   "metadata": {
    "ExecuteTime": {
     "end_time": "2023-06-29T01:29:49.882703Z",
     "start_time": "2023-06-29T01:29:49.874368Z"
    },
    "scrolled": true
   },
   "outputs": [
    {
     "name": "stdout",
     "output_type": "stream",
     "text": [
      "[0.58928816 0.1550535 ]\n"
     ]
    }
   ],
   "source": [
    "#pca 설명 가능한 분산량\n",
    "print(pca.explained_variance_ratio_)"
   ]
  },
  {
   "cell_type": "code",
   "execution_count": 44,
   "metadata": {
    "ExecuteTime": {
     "end_time": "2023-06-29T01:29:49.985982Z",
     "start_time": "2023-06-29T01:29:49.884573Z"
    }
   },
   "outputs": [],
   "source": [
    "weather_X_train_new = pca.transform(weather_X_train_s)\n",
    "weather_X_test_new  = pca.transform(weather_X_test_s)"
   ]
  },
  {
   "cell_type": "code",
   "execution_count": 45,
   "metadata": {
    "ExecuteTime": {
     "end_time": "2023-06-29T01:29:50.593754Z",
     "start_time": "2023-06-29T01:29:49.994284Z"
    }
   },
   "outputs": [
    {
     "data": {
      "text/plain": [
       "RandomForestClassifier(max_depth=15, n_jobs=-1)"
      ]
     },
     "execution_count": 45,
     "metadata": {},
     "output_type": "execute_result"
    }
   ],
   "source": [
    "weather_ranfo_new = RandomForestClassifier(n_estimators=100,n_jobs=-1,max_depth=15)\n",
    "weather_ranfo_new.fit(weather_X_train_new, weather_y_train)"
   ]
  },
  {
   "cell_type": "code",
   "execution_count": 46,
   "metadata": {
    "ExecuteTime": {
     "end_time": "2023-06-29T01:29:50.820449Z",
     "start_time": "2023-06-29T01:29:50.597043Z"
    }
   },
   "outputs": [],
   "source": [
    "weather_pred_train_new = weather_ranfo_new.predict(weather_X_train_new)\n",
    "weather_pred_test_new  = weather_ranfo_new.predict(weather_X_test_new)\n",
    "weather_acc_train_new  = np.sum(weather_pred_train_new==weather_y_train)/len(weather_y_train)\n",
    "weather_acc_test_new   = np.sum(weather_pred_test_new==weather_y_test)/len(weather_y_test)"
   ]
  },
  {
   "cell_type": "code",
   "execution_count": 47,
   "metadata": {
    "ExecuteTime": {
     "end_time": "2023-06-29T01:29:50.829551Z",
     "start_time": "2023-06-29T01:29:50.823627Z"
    }
   },
   "outputs": [
    {
     "name": "stdout",
     "output_type": "stream",
     "text": [
      "weather_train ACC: 0.8808234701586503\n",
      "weather_test ACC: 0.5621852970795569\n"
     ]
    }
   ],
   "source": [
    "print(\"weather_train ACC:\", weather_acc_train_new)\n",
    "print(\"weather_test ACC:\", weather_acc_test_new)"
   ]
  },
  {
   "cell_type": "code",
   "execution_count": 48,
   "metadata": {
    "ExecuteTime": {
     "end_time": "2023-06-29T01:29:50.991137Z",
     "start_time": "2023-06-29T01:29:50.833426Z"
    }
   },
   "outputs": [],
   "source": [
    "#malware 데이터 셋 PCA 결과, 정규화O\n",
    "pca = PCA(n_components=2)\n",
    "malware_pc = pca.fit_transform(malware_X_train_s)"
   ]
  },
  {
   "cell_type": "code",
   "execution_count": 49,
   "metadata": {
    "ExecuteTime": {
     "end_time": "2023-06-29T01:29:51.058748Z",
     "start_time": "2023-06-29T01:29:50.994053Z"
    }
   },
   "outputs": [
    {
     "name": "stdout",
     "output_type": "stream",
     "text": [
      "[0.11164272 0.06988058]\n"
     ]
    }
   ],
   "source": [
    "#pca 설명 가능한 분산량\n",
    "print(pca.explained_variance_ratio_)"
   ]
  },
  {
   "cell_type": "code",
   "execution_count": 50,
   "metadata": {
    "ExecuteTime": {
     "end_time": "2023-06-29T01:29:51.155535Z",
     "start_time": "2023-06-29T01:29:51.060973Z"
    }
   },
   "outputs": [],
   "source": [
    "malware_X_train_new = pca.transform(malware_X_train_s)\n",
    "malware_X_test_new  = pca.transform(malware_X_test_s)"
   ]
  },
  {
   "cell_type": "code",
   "execution_count": 51,
   "metadata": {
    "ExecuteTime": {
     "end_time": "2023-06-29T01:29:51.806074Z",
     "start_time": "2023-06-29T01:29:51.164808Z"
    }
   },
   "outputs": [
    {
     "data": {
      "text/plain": [
       "RandomForestClassifier(max_depth=15, n_jobs=-1)"
      ]
     },
     "execution_count": 51,
     "metadata": {},
     "output_type": "execute_result"
    }
   ],
   "source": [
    "malware_ranfo_new = RandomForestClassifier(n_estimators=100,n_jobs=-1,max_depth=15)\n",
    "malware_ranfo_new.fit(malware_X_train_new, malware_y_train)"
   ]
  },
  {
   "cell_type": "code",
   "execution_count": 52,
   "metadata": {
    "ExecuteTime": {
     "end_time": "2023-06-29T01:29:52.034893Z",
     "start_time": "2023-06-29T01:29:51.809495Z"
    }
   },
   "outputs": [],
   "source": [
    "malware_pred_train_new = malware_ranfo_new.predict(malware_X_train_new)\n",
    "malware_pred_test_new  = malware_ranfo_new.predict(malware_X_test_new)\n",
    "malware_acc_train_new  = np.sum(malware_pred_train_new==malware_y_train)/len(malware_y_train)\n",
    "malware_acc_test_new   = np.sum(malware_pred_test_new==malware_y_test)/len(malware_y_test)"
   ]
  },
  {
   "cell_type": "code",
   "execution_count": 53,
   "metadata": {
    "ExecuteTime": {
     "end_time": "2023-06-29T01:29:52.045101Z",
     "start_time": "2023-06-29T01:29:52.038862Z"
    }
   },
   "outputs": [
    {
     "name": "stdout",
     "output_type": "stream",
     "text": [
      "malware_train ACC: 0.9940019193857965\n",
      "malware_test ACC: 0.9117082533589251\n"
     ]
    }
   ],
   "source": [
    "print(\"malware_train ACC:\", malware_acc_train_new)\n",
    "print(\"malware_test ACC:\", malware_acc_test_new)"
   ]
  },
  {
   "cell_type": "markdown",
   "metadata": {},
   "source": [
    "---"
   ]
  }
 ],
 "metadata": {
  "hide_input": false,
  "kernelspec": {
   "display_name": "Python 3",
   "language": "python",
   "name": "python3"
  },
  "language_info": {
   "codemirror_mode": {
    "name": "ipython",
    "version": 3
   },
   "file_extension": ".py",
   "mimetype": "text/x-python",
   "name": "python",
   "nbconvert_exporter": "python",
   "pygments_lexer": "ipython3",
   "version": "3.6.9"
  },
  "latex_envs": {
   "LaTeX_envs_menu_present": true,
   "autoclose": false,
   "autocomplete": true,
   "bibliofile": "biblio.bib",
   "cite_by": "apalike",
   "current_citInitial": 1,
   "eqLabelWithNumbers": true,
   "eqNumInitial": 1,
   "hotkeys": {
    "equation": "Ctrl-E",
    "itemize": "Ctrl-I"
   },
   "labels_anchors": false,
   "latex_user_defs": false,
   "report_style_numbering": false,
   "user_envs_cfg": false
  },
  "nbTranslate": {
   "displayLangs": [
    "ko",
    "en"
   ],
   "hotkey": "alt-t",
   "langInMainMenu": true,
   "sourceLang": "en",
   "targetLang": "ko",
   "useGoogleTranslate": true
  },
  "toc": {
   "base_numbering": 1,
   "nav_menu": {},
   "number_sections": true,
   "sideBar": true,
   "skip_h1_title": false,
   "title_cell": "Table of Contents",
   "title_sidebar": "Contents",
   "toc_cell": false,
   "toc_position": {},
   "toc_section_display": true,
   "toc_window_display": true
  },
  "varInspector": {
   "cols": {
    "lenName": 16,
    "lenType": 16,
    "lenVar": 40
   },
   "kernels_config": {
    "python": {
     "delete_cmd_postfix": "",
     "delete_cmd_prefix": "del ",
     "library": "var_list.py",
     "varRefreshCmd": "print(var_dic_list())"
    },
    "r": {
     "delete_cmd_postfix": ") ",
     "delete_cmd_prefix": "rm(",
     "library": "var_list.r",
     "varRefreshCmd": "cat(var_dic_list()) "
    }
   },
   "types_to_exclude": [
    "module",
    "function",
    "builtin_function_or_method",
    "instance",
    "_Feature"
   ],
   "window_display": false
  }
 },
 "nbformat": 4,
 "nbformat_minor": 2
}
